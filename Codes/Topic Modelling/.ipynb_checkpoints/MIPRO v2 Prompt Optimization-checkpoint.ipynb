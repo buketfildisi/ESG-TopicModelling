{
 "cells": [
  {
   "cell_type": "code",
   "execution_count": 1,
   "id": "d3ee0e3c-52cc-4b46-bc48-3219ae671d54",
   "metadata": {},
   "outputs": [
    {
     "data": {
      "text/plain": [
       "False"
      ]
     },
     "execution_count": 1,
     "metadata": {},
     "output_type": "execute_result"
    }
   ],
   "source": [
    "import os\n",
    "import re\n",
    "from pypdf import PdfReader\n",
    "from dotenv import load_dotenv\n",
    "\n",
    "import chromadb\n",
    "from chromadb.utils import embedding_functions\n",
    "import dspy\n",
    "from dspy.retrieve.chromadb_rm import ChromadbRM\n",
    "load_dotenv()"
   ]
  },
  {
   "cell_type": "code",
   "execution_count": 2,
   "id": "48e3f9cf-25da-43df-8c9c-a9e830a96c1a",
   "metadata": {},
   "outputs": [],
   "source": [
    "# Load and process PDF documents\n",
    "def load_documents(file_path):\n",
    "    reader = PdfReader(file_path)\n",
    "    return [p.extract_text().strip() for p in reader.pages if p.extract_text()]\n",
    "\n",
    "def clean_text(text):\n",
    "    \"\"\"Normalize whitespace and remove non-printable characters.\"\"\"\n",
    "    text = re.sub(r'\\s+', ' ', text)\n",
    "    text = re.sub(r'[^\\x00-\\x7F]+', '', text)\n",
    "    return text\n",
    "\n",
    "def chunk_text(text, size=1000):\n",
    "    \"\"\"Split text into chunks of approximately 'size' characters.\"\"\"\n",
    "    words = text.split()\n",
    "    chunks, current_chunk, current_length = [], [], 0\n",
    "    for word in words:\n",
    "        if current_length + len(word) + 1 > size:\n",
    "            chunks.append(' '.join(current_chunk))\n",
    "            current_chunk, current_length = [word], len(word) + 1\n",
    "        else:\n",
    "            current_chunk.append(word)\n",
    "            current_length += len(word) + 1\n",
    "    if current_chunk:\n",
    "        chunks.append(' '.join(current_chunk))\n",
    "    return chunks\n",
    "\n",
    "def process_pdf(file_path):\n",
    "    \"\"\"Load, clean, and chunk text from a PDF.\"\"\"\n",
    "    pdf_texts = load_documents(file_path)\n",
    "    full_text = '\\n'.join(pdf_texts)\n",
    "    cleaned_text = clean_text(full_text)\n",
    "    return chunk_text(cleaned_text)\n",
    "\n",
    "# Load PDF file and prepare text\n",
    "pdf_file = r'C:\\Users\\Buket Fildisi\\Desktop\\PhD\\LLM\\2024_Factsheets.pdf'\n",
    "token_split_texts = process_pdf(pdf_file)"
   ]
  },
  {
   "cell_type": "code",
   "execution_count": 3,
   "id": "4e664438-1e2b-4de0-bad0-1861676da2ea",
   "metadata": {
    "scrolled": true
   },
   "outputs": [
    {
     "data": {
      "text/plain": [
       "['To learn more about global progress on the 17 SDGs, click here to read the latest Sustainable Development Goals Report 2024. 2024 By 2030, 590 million people may still live in extreme poverty if current trends persist. Without a substantial acceleration in poverty reduction, fewer than 3 in 10 countries are expected to halve national poverty by 2030. Despite increasing efforts to expand social protection programmes, significant coverage gaps left 1.4 billion children uncovered in 2023. Ending poverty requires comprehensive social protection systems, inclusive economic policies, investments in human capital, measures to address inequality and climate resilience, and international cooperation and partnership. WHERE WE STAND End poverty in all its forms everywhere FACTS AND FIGURES The COVID-19 pandemic caused extreme poverty to rise in 2020 for the first time in decades, reversing global progress by three years. The share of the worlds population living in extreme poverty rose from 8.9%',\n",
       " \"in 2019 to 9.7% in 2020, driven by increases in low- and lower-middle-income countries. In 2022, 712 million people (or 9% of the world's population) lived in extreme poverty, an increase of 23 million people from 2019. In the 75 most vulnerable countries, which qualify for concessional lending from the World Banks International Development Association, one in four people lives on less than $2.15 a day more than eight times the average extreme poverty rate in the rest of the world. The global working poverty rate slightly increased from 6.9% in 2019 to 7.7% in 2020 before declining back to 6.9% in 2023. Despite progress, nearly 241 million workers globally still lived in extreme poverty in 2023. Little positive change is expected in 2024. Globally, young workers are twice as likely as adults to be in working poverty and women typically experience higher working poverty rates than men. To guarantee at least basic social security for all children, upper- and lower-middle-income\",\n",
       " 'countries would need to invest an additional $98.1 billion and $88.8 billion, respectively. Low-income countries would require an additional $59.6 billion. From 2015 to 2022, average annual direct economic losses attributed to disasters exceeded $115 billion worldwide, an amount equivalent to 0.3% of the gross domestic product (GDP) of reporting countries. LDCs and LLDCs suffer disproportionately from disasters with disaster-related economic losses of over six times and four times the global average, respectively. Government spending on essential services averages 60% of total government expenditure among advanced economies, while in emerging and developing economies, it stands at 40%. Over the past two decades, both groups have seen a slight uptick in these shares, but a persistent 20-percentage-point gap between them remains. SDG 1: NO POVERTY 2024 SDG 2: ZERO HUNGER Nearly 1 in 10 people globally face hunger. In 2022, 2.4 billion people experienced moderate to severe food',\n",
       " 'insecurity. Despite progress, 148 million children under age 5 suffered from stunting in 2022. If current trends persist, 1 in 5 children under age 5 will be affected by stunting in 2030. In 2022, almost 60% of countries worldwide faced moderately to abnormally high food prices due to the spillover effects of conflicts. Achieving zero hunger requires intensified efforts to transform food systems so they are sustainable, resilient and equitable. Moreover, accelerating improvements in diets, nutrition, health and hygiene is crucial to meeting the SDG target of halving the number of children suffering from chronic undernutrition. End hunger, achieve food security and improved nutrition and promote sustainable agriculture FACTS AND FIGURES Between 691 million and 783 million people faced hunger in 2022. Considering the midrange (735 million), 122 million more people faced hunger in 2022 than in 2019. Globally in 2022, an estimated 148 million (22.3%) children were affected by stunting, 37',\n",
       " 'million (5.6%) were overweight, while 45 million (6.8%) experienced wasting. Record-high food prices in 2022 worsened purchasing power and access to food, negatively impacting food security and nutritional outcomes. Globally, the proportion of countries facing moderately to abnormally high food prices rose sharply in 2022, reaching a new record high of 58.1%. This represented a nearly fourfold increase from the 2015- 2019 average level of 15.2%. In 95% of countries with available data, the average annual income of small-scale producers is less than half that of larger-scale producers. Small-scale food producers headed by men typically generate higher incomes than those headed by women. Between 2015 and 2022, global government spending on agriculture increased steadily, reaching a record high of $749 billion in 2022. However, government expenditure on agriculture relative to the sectors GDP contribution declined from 0.5 in 2015 to 0.43 in 2021 before rebounding to 0.48 in 2022. From',\n",
       " '2015 to 2022, the volume of aid for agriculture provided to developing countries increased by 47.2%, from $12.3 billion to $18.1 billion (in constant 2022 prices). Data from 2021 showed that the world was at a moderate distance from achieving productive and sustainable agriculture (with a score of 3.4 out of 5), with the highest score of 4.1 in Europe and Northern American compared to the lowest score of 2.6 in the LDCs. WHERE WE STAND To learn more about global progress on the 17 SDGs, click here to read the latest Sustainable Development Goals Report 2024. 2024 SDG 13: CLIMATEACTION Take urgent action to combat climate change and its impacts Climate records were shattered in 2023 as the climate crisis accelerated in real time. Temperatures and global greenhouse gas emissions continue to climb. Current national policies set the world on track for warming of 3C according to the United Nations Environment Programme. Nationally determined contributions (NDCs) in 2025 must include',\n",
       " 'increased ambition to close implementation gaps, cover entire economies and all greenhouse gases, and align with the target of halting warming at 1.5C. The roadmap to avoid the worst of climate chaos is clear but cannot afford any delays or half measures by the global community. Drastic reductions in global greenhouse gas emissions must take place by 2030 and reach net zero by 2050. FACTS AND FIGURES The number of disaster-related deaths and missing persons per 100,000 population (excluding deaths from COVID-19) has nearly halved, from 1.62 during the period 20052014 to 0.82 during the period 20132022. The number of persons affected by disasters per 100,000 population has increased by over two thirds, from 1,169 during the period 2005 2014 to 1,980 during the period 20132022. In LDCs, the disaster-affected population per 100,000 people is 20% higher than the global average, and the mortality rate is 170% higher, demonstrating that the catastrophic impact of disasters is much greater',\n",
       " 'in these countries. In 2023, 129 countries reported having national long-term risk reduction strategies and plans and 104 countries reported having effective multi- hazard early warning systems. In 2023, 106 countries cumulatively reported having local disaster risk reduction strategies in place and in line with national strategies. On average, 72% of local governments in reporting countries specified having local disaster risk reduction strategies. According to the World Meteorological Organization (WMO), record global temperatures hit approximately 1.45C above pre-industrial levels in 2023. The 10 warmest years in the 174 years with records have all occurred during the last decade. In 2022, global greenhouse gas emissions reached a new record of 57.4 gigatons of CO2 equivalent. About two thirds of emissions comprised CO2 from fossil fuel combustion and industrial processes. According to the WMO, concentrations of greenhouse gases reached record high levels in 2022, and real-time',\n",
       " 'data from 2023 show a continuing increase. Carbon dioxide levels are 150 per cent above pre- industrial levels. Fossil fuel subsidies reached a record high of $1.53 trillion in 2022, driven by rising energy prices post-pandemic and the impact of the Russian Federations invasion of Ukraine, which disrupted global energy markets. A 2023 study of more than 530 ninth-grade science and social science curricula found that 69% did not mention climate change and 66% omitted sustainability. The Organisation for Economic Co-operation and Development (OECD) reports that developed countries mobilized $115.9 billion in climate finance for developing countries in 2022, reaching the $100 billion target for the first time. WHERE WE STAND To learn more about global progress on the 17 SDGs, click here to read the latest Sustainable Development Goals Report 2024. 2024 SDG 16: PEACE,JUSTICE AND STRONG Promote peaceful and inclusive societies for sustainable development, provide access to justice for all',\n",
       " 'and build effective, accountable and inclusive institutions at all levels. INSTITUTIONS Rising conflicts and violent organized crime persist around the world, causing immense human suffering and hampering sustainable development. Forcibly displaced people reached unprecedented 120 million in May 2024. Civilian casualties in armed conflicts surged by 72% in 2023. Corruption continues to divert resources from sustainable development, with one in five people reporting being asked to pay or having paid a bribe to a public official in the last 12 months. Governments globally struggle to restore pre-COVID-19 budget reliability amid new international pressures affecting economies that have increased budget expenditures beyond initial approvals. FACTS AND FIGURES The global homicide rate decreased from 5.9 per 100,000 populationin 2015 to 5.5 in 2020, but then sharply rose to 5.8 in 2021 and slightlydecreased to 5.6 in 2022.Civilian deaths in armed conflicts surged by 72% in 2023 comparedto',\n",
       " '2022, reaching over 33,400 - nearly matching the 2015 peak.In 2023, seven out of ten recorded civilian deaths in armed conflictsoccurred in the Occupied Palestinian Territory and Israel.In 2022, 2 in 10 civilians killed in conflicts were women; 1 in 10 werechildren. By 2023, 4 in 10 were women and 3 in 10 were children. In 2022, nearly a third (3.5 million) of the global prison population of11.5 million was being held in pre-trial detention.Based on data from 138 countries, 19% of people who had contactwith public officials reported being asked to pay or paid a bribe,ranging from 32% in low-income countries to 9% in high-incomecountries.In 2023, 320 human rights defenders, journalists and trade unionistsin 40 countries were killed, down from 448 cases in 36 countries in2022.Conflict zones saw a sharp increase in the killings of journalists andmedia workers, with 40 lives lost, reversing a downward trend since2017.Between 2015 and 2023, the number of countries with independentnational',\n",
       " \"human rights institutions meeting international standardsincreased by 23%.Youth representation in parliaments is increasing globally, butwomen's leadership roles are growing slowly. As of January 2024,women hold 23.8% of parliamentary speaker positions and 27.2% ofcommittee chair posts.While a few regions like Northern America and Europe and Australiaand New Zealand have achieved universal birth registration, only halfof African children under five have had their births registered. WHERE WE STAND To learn more about global progress on the 17 SDGs, click here to read the latest Sustainable Development Goals Report 2024. To learn more about global progress on the 17 SDGs, click here to read the latest Sustainable Development Goals Report 2024. SDG 17: Partnershipsfor the Goals 2024 Strengthen the means of implementation and revitalize the Global Partnership for Sustainable Development Developing countries face a $4 trillion annual investment gap to achieve the SDGs. Foreign direct\",\n",
       " 'investment flows to developing countries have decreased while gains in remittances and ODA have been modest. The Secretary- General has urged countries to support an SDG Stimulus of $500 billion annually to address this shortfall. External debt stock levels remain unprecedentedly high for developing countries, with about 60% of low- income countries at high risk of debt distress or already experiencing it. In 2023, 5.4 billion people worldwide were online, mark a 69% increase in internet coverage from 2015. Investment in infrastructure and affordable internet access is crucial for inclusive development, particularly in low-income regions. In a landscape of declining international cooperation and rising geopolitical tensions, strengthened global partnerships and enhanced cooperation are urgently needed to address widening financing gaps, reinforce post- pandemic recovery, and promote sustainable development, particularly in Least Developed Countries (LDCs) and other vulnerable',\n",
       " 'countries. WHERE WE STAND FACTS AND FIGURES In 2023, ODA by DAC member countries amounted to $223.7 billion, or 0.37% of their combined GNI. This marks a 1.8% real- term increase from 2022 and a 47% rise from 2015, representing the fifth consecutive year of record-high ODA. The annual SDG investment gap in developing countries is now $4 trillion. Global FDI flows in 2023 reached an estimated $1.37 trillion, a marginal increase over 2022, mainly due to higher values in a few conduit economies. Excluding these, global FDI flows were 18% lower. In 2023, remittance flows to low- and middle-income countries reached an estimated $669 billion, reflecting a normalization of flows following the post-pandemic robust growth. About 60% of low-income countries are at high risk of debt distress or already experiencing it. Increasing borrowing costs have and will continue to divert scarce resources from critical development needs such as poverty reduction, climate action, health and education.. In',\n",
       " '2023, 67% of the global population, or 5.4 billion people, were online, marking a 4.7% increase from 2022. The growth rate has returned to pre-pandemic levels after a surge during the COVID- 19 pandemic. Fixed-broadband subscriptions grew steadily, averaging a 6.4% annual increase from 2015 to 2023, reaching 19 per 100 inhabitants in 2023 globally. Despite this, fixed connections are rare in low-income countries due to high costs and lack of infrastructure. In 2023, 163 countries implemented national statistical plans, up from 143 in 2019, with 109 fully funded. International support for data and statistics development surged to $799 million in 2021, a 14% increase from 2020 and 44% from 2015.']"
      ]
     },
     "execution_count": 3,
     "metadata": {},
     "output_type": "execute_result"
    }
   ],
   "source": [
    "token_split_texts"
   ]
  },
  {
   "cell_type": "code",
   "execution_count": 4,
   "id": "59baadc7-44a4-4460-9bcd-67d12b43410f",
   "metadata": {
    "scrolled": true
   },
   "outputs": [
    {
     "name": "stderr",
     "output_type": "stream",
     "text": [
      "Add of existing embedding ID: 0\n",
      "Add of existing embedding ID: 1\n",
      "Add of existing embedding ID: 2\n",
      "Add of existing embedding ID: 3\n",
      "Add of existing embedding ID: 4\n",
      "Add of existing embedding ID: 5\n",
      "Add of existing embedding ID: 6\n",
      "Add of existing embedding ID: 7\n",
      "Add of existing embedding ID: 8\n",
      "Add of existing embedding ID: 9\n",
      "Add of existing embedding ID: 10\n",
      "Add of existing embedding ID: 11\n",
      "Add of existing embedding ID: 12\n",
      "Add of existing embedding ID: 13\n",
      "Add of existing embedding ID: 14\n",
      "Add of existing embedding ID: 15\n",
      "Add of existing embedding ID: 0\n",
      "Add of existing embedding ID: 1\n",
      "Add of existing embedding ID: 2\n",
      "Add of existing embedding ID: 3\n",
      "Add of existing embedding ID: 4\n",
      "Add of existing embedding ID: 5\n",
      "Add of existing embedding ID: 6\n",
      "Add of existing embedding ID: 7\n",
      "Add of existing embedding ID: 8\n",
      "Add of existing embedding ID: 9\n",
      "Add of existing embedding ID: 10\n",
      "Add of existing embedding ID: 11\n",
      "Add of existing embedding ID: 12\n",
      "Add of existing embedding ID: 13\n",
      "Add of existing embedding ID: 14\n",
      "Add of existing embedding ID: 15\n",
      "Add of existing embedding ID: 0\n",
      "Add of existing embedding ID: 1\n",
      "Add of existing embedding ID: 2\n",
      "Add of existing embedding ID: 3\n",
      "Add of existing embedding ID: 4\n",
      "Add of existing embedding ID: 5\n",
      "Add of existing embedding ID: 6\n",
      "Add of existing embedding ID: 7\n",
      "Add of existing embedding ID: 8\n",
      "Add of existing embedding ID: 9\n",
      "Add of existing embedding ID: 10\n",
      "Add of existing embedding ID: 11\n",
      "Add of existing embedding ID: 12\n",
      "Add of existing embedding ID: 13\n",
      "Add of existing embedding ID: 14\n",
      "Insert of existing embedding ID: 0\n",
      "Insert of existing embedding ID: 1\n",
      "Insert of existing embedding ID: 2\n",
      "Insert of existing embedding ID: 3\n",
      "Insert of existing embedding ID: 4\n",
      "Insert of existing embedding ID: 5\n",
      "Insert of existing embedding ID: 6\n",
      "Insert of existing embedding ID: 7\n",
      "Insert of existing embedding ID: 8\n",
      "Insert of existing embedding ID: 9\n",
      "Insert of existing embedding ID: 10\n",
      "Insert of existing embedding ID: 11\n",
      "Insert of existing embedding ID: 12\n",
      "Insert of existing embedding ID: 13\n",
      "Insert of existing embedding ID: 14\n"
     ]
    }
   ],
   "source": [
    "# Initialize ChromaDB and add documents\n",
    "chroma_client = chromadb.PersistentClient(path=\"./chromadbESG2602\")\n",
    "collection = chroma_client.get_or_create_collection(\n",
    "    name=\"ESG2602\",\n",
    "    embedding_function=embedding_functions.DefaultEmbeddingFunction()\n",
    ")\n",
    "collection.add(documents=token_split_texts, ids=[str(i) for i in range(len(token_split_texts))])"
   ]
  },
  {
   "cell_type": "code",
   "execution_count": 28,
   "id": "5f37c29a-2759-41f8-99a3-632b5a8cc517",
   "metadata": {},
   "outputs": [],
   "source": [
    "# Initialize ChromaDB and add documents\n",
    "chroma_client4 = chromadb.PersistentClient(path=\"./testSDG\")\n",
    "collection4 = chroma_client4.get_or_create_collection(\n",
    "    name=\"testSDG2024\",\n",
    "    embedding_function=embedding_functions.DefaultEmbeddingFunction()\n",
    ")\n",
    "collection4.add(documents=token_split_texts, ids=[str(i) for i in range(len(token_split_texts))])"
   ]
  },
  {
   "cell_type": "code",
   "execution_count": 14,
   "id": "8bd3f152-0115-4aea-af31-39f76f2ae4f7",
   "metadata": {},
   "outputs": [],
   "source": [
    "#llm = dspy.OpenAI(model=\"gpt-3.5-turbo\")\n",
    "retriever_model = ChromadbRM(\n",
    "    collection_name='ESG2602', \n",
    "    persist_directory=\"./chromadbESG2602\",\n",
    "    embedding_function=embedding_functions.DefaultEmbeddingFunction(),\n",
    "    k=5\n",
    ")\n",
    "\n",
    "dspy.settings.configure(lm=llm, rm=retriever_model)"
   ]
  },
  {
   "cell_type": "code",
   "execution_count": 119,
   "id": "a9ad22e7-c434-4ee2-bde3-8880d7e55c56",
   "metadata": {},
   "outputs": [],
   "source": [
    "#llm = dspy.OpenAI(model=\"gpt-3.5-turbo\")\n",
    "retriever_model4 = ChromadbRM(\n",
    "    collection_name='testSDG2024', \n",
    "    persist_directory=\"./testSDG\",\n",
    "    embedding_function=embedding_functions.DefaultEmbeddingFunction(),\n",
    "    k=5\n",
    ")\n",
    "\n",
    "dspy.settings.configure(lm=llm4, rm=retriever_model)"
   ]
  },
  {
   "cell_type": "code",
   "execution_count": 120,
   "id": "84887982-0edc-49ef-b203-c4de2f3949c2",
   "metadata": {
    "scrolled": true
   },
   "outputs": [
    {
     "data": {
      "text/plain": [
       "[{'id': '0',\n",
       "  'score': 1.0746821483065905,\n",
       "  'long_text': 'General Remarks on the GFSR Executive Directors took the opportunity of the Board discussion to take stock of the Global Financial Stability Report (GFSR) after three years in existence. They noted that the GFSR has become an important instrument of multilateral financial sector surveillance by the Fund, complementing the World Economic Outlook (WEO). It has established the IMF as a leader in global financial stability work and has made the IMF a major contributor to international regulatory debates. At the same time, many Directors saw scope for improving the GFSR by making it more concise, sharply focused, and policy-oriented. They also called for reduced overlap between the GFSR and the WEO where possible, and for the Funds operational work to better integrate the GFSRs findings. Global Financial Market Surveillance Directors welcomed the continued improvement in global financial stability. The current configuration of solid growth, low inflation, low bond yields, flat yield',\n",
       "  'metadatas': None},\n",
       " {'id': '8',\n",
       "  'score': 1.078350298497444,\n",
       "  'long_text': 'frameworks, and of improving basic financial education especially among individual investors. In the context of rising household indebtedness, mainly in the mortgage market, Directors welcomed the warnings that regula- tors in some major countries have given to their lending institutions to tighten credit standards. For the medium term, the risk of growing global imbalances has to be addressed by a cooperative effort by the major coun- tries, with each adopting policies appropriate to its circumstances. Aspects of Global Asset Allocation Directors welcomed the work undertaken by staff on global asset allocation and the increasing role of institutional investors in financial markets. They noted that a better understanding of the investment patterns of pension funds, insurance companies, mutual funds, and, increasingly, hedge funds would help anticipate the potential for abrupt changes in capital flows across borders and asset classes, with direct relevance to financial stability and to',\n",
       "  'metadatas': None},\n",
       " {'id': '1',\n",
       "  'score': 1.1545447552204229,\n",
       "  'long_text': 'curves, and tight credit spreads has supported inter- national financial markets, helping to strengthen the resilience of the global finan- cial system. Furthermore, the much improved balance sheets of the sovereign, corporate, and household sectors, together with struc- tural changes such as the growing importance and diversity of institutional investors and their behaviors, have provided an important cushion to financial markets. However, Directors agreed that while the benign con- figuration just mentioned has reduced risk in the near term, it has stored up potential vul- nerabilities for the medium term, mainly in the form of larger global imbalances and higher debt levels, particularly by the house- hold sector. Directors agreed that the search for yield remains a dominant theme in financial mar- kets, leading to further narrowing of credit spreads and a greater investor focus on employing leverage and alternative invest- ments to enhance returns. The search for yield continues',\n",
       "  'metadatas': None},\n",
       " {'id': '9',\n",
       "  'score': 1.1569024729549582,\n",
       "  'long_text': 'policymakers. Directors considered the diversity of proce- dures followed by various institutional investors when allocating assets, reflecting their different time horizons, liability struc- tures, and cultural backgrounds, as well as external influences, such as accounting and financial reporting standards, tax rules, rating agencies, and the availability of financial instruments needed for adequate risk manage- ment. In this context, most Directors agreed that the increasing dominance of strategic asset allocations driven more by long-term economic fundamentals, including risk man- agement objectives, was a positive develop- ment, as it helps reduce the volatility and noise in financial markets, and makes some asset classes, such as emerging market debt, less prone to boom and bust cycles. In particu- lar, the continued growth of institutions with long-term liabilities, such as pension funds, brings benefits from the point of view of financial stability. Some Directors, however,',\n",
       "  'metadatas': None},\n",
       " {'id': '11',\n",
       "  'score': 1.1695166201345981,\n",
       "  'long_text': 'greater importance in a world in which institutional portfolios have become increasingly interna- tional. A few Directors expressed doubt about the reports findings that investors from major economies, like the United States and the United Kingdom, would have little to gain from further international diversification of portfolios. Directors discussed the implications for financial stability of proposals and potential changes in accounting policy. They recog- nized the importance of international efforts ANNEX SUMMING UP BY THE CHAIRMAN 150 SUMMING UP BY THE CHAIRMAN 151 to improve accounting principles in order to enhance the comparability and transparency of accounts and to strengthen market disci- pline. However, views differed on the impact of changes in accounting principles on finan- cial market stability. A number of Directors agreed that accounting and financial report- ing standards may influence market behavior and asset allocations by key institutional investors, including',\n",
       "  'metadatas': None}]"
      ]
     },
     "execution_count": 120,
     "metadata": {},
     "output_type": "execute_result"
    }
   ],
   "source": [
    "# Example query to test the retriever\n",
    "retriever_model(\"sustainable finance\")"
   ]
  },
  {
   "cell_type": "code",
   "execution_count": 121,
   "id": "ade5a9a6-ed23-4e64-99cc-423581704c74",
   "metadata": {
    "scrolled": true
   },
   "outputs": [
    {
     "data": {
      "text/plain": [
       "[{'id': '8',\n",
       "  'score': 1.0350654887407988,\n",
       "  'long_text': 'data from 2023 show a continuing increase. Carbon dioxide levels are 150 per cent above pre- industrial levels. Fossil fuel subsidies reached a record high of $1.53 trillion in 2022, driven by rising energy prices post-pandemic and the impact of the Russian Federations invasion of Ukraine, which disrupted global energy markets. A 2023 study of more than 530 ninth-grade science and social science curricula found that 69% did not mention climate change and 66% omitted sustainability. The Organisation for Economic Co-operation and Development (OECD) reports that developed countries mobilized $115.9 billion in climate finance for developing countries in 2022, reaching the $100 billion target for the first time. WHERE WE STAND To learn more about global progress on the 17 SDGs, click here to read the latest Sustainable Development Goals Report 2024. 2024 SDG 16: PEACE,JUSTICE AND STRONG Promote peaceful and inclusive societies for sustainable development, provide access to justice for all',\n",
       "  'metadatas': None},\n",
       " {'id': '12',\n",
       "  'score': 1.1667770618129074,\n",
       "  'long_text': 'investment flows to developing countries have decreased while gains in remittances and ODA have been modest. The Secretary- General has urged countries to support an SDG Stimulus of $500 billion annually to address this shortfall. External debt stock levels remain unprecedentedly high for developing countries, with about 60% of low- income countries at high risk of debt distress or already experiencing it. In 2023, 5.4 billion people worldwide were online, mark a 69% increase in internet coverage from 2015. Investment in infrastructure and affordable internet access is crucial for inclusive development, particularly in low-income regions. In a landscape of declining international cooperation and rising geopolitical tensions, strengthened global partnerships and enhanced cooperation are urgently needed to address widening financing gaps, reinforce post- pandemic recovery, and promote sustainable development, particularly in Least Developed Countries (LDCs) and other vulnerable',\n",
       "  'metadatas': None},\n",
       " {'id': '13',\n",
       "  'score': 1.2126960424195128,\n",
       "  'long_text': 'countries. WHERE WE STAND FACTS AND FIGURES In 2023, ODA by DAC member countries amounted to $223.7 billion, or 0.37% of their combined GNI. This marks a 1.8% real- term increase from 2022 and a 47% rise from 2015, representing the fifth consecutive year of record-high ODA. The annual SDG investment gap in developing countries is now $4 trillion. Global FDI flows in 2023 reached an estimated $1.37 trillion, a marginal increase over 2022, mainly due to higher values in a few conduit economies. Excluding these, global FDI flows were 18% lower. In 2023, remittance flows to low- and middle-income countries reached an estimated $669 billion, reflecting a normalization of flows following the post-pandemic robust growth. About 60% of low-income countries are at high risk of debt distress or already experiencing it. Increasing borrowing costs have and will continue to divert scarce resources from critical development needs such as poverty reduction, climate action, health and education.. In',\n",
       "  'metadatas': None},\n",
       " {'id': '5',\n",
       "  'score': 1.2286719199582032,\n",
       "  'long_text': '2015 to 2022, the volume of aid for agriculture provided to developing countries increased by 47.2%, from $12.3 billion to $18.1 billion (in constant 2022 prices). Data from 2021 showed that the world was at a moderate distance from achieving productive and sustainable agriculture (with a score of 3.4 out of 5), with the highest score of 4.1 in Europe and Northern American compared to the lowest score of 2.6 in the LDCs. WHERE WE STAND To learn more about global progress on the 17 SDGs, click here to read the latest Sustainable Development Goals Report 2024. 2024 SDG 13: CLIMATEACTION Take urgent action to combat climate change and its impacts Climate records were shattered in 2023 as the climate crisis accelerated in real time. Temperatures and global greenhouse gas emissions continue to climb. Current national policies set the world on track for warming of 3C according to the United Nations Environment Programme. Nationally determined contributions (NDCs) in 2025 must include',\n",
       "  'metadatas': None},\n",
       " {'id': '11',\n",
       "  'score': 1.2802498177702957,\n",
       "  'long_text': \"human rights institutions meeting international standardsincreased by 23%.Youth representation in parliaments is increasing globally, butwomen's leadership roles are growing slowly. As of January 2024,women hold 23.8% of parliamentary speaker positions and 27.2% ofcommittee chair posts.While a few regions like Northern America and Europe and Australiaand New Zealand have achieved universal birth registration, only halfof African children under five have had their births registered. WHERE WE STAND To learn more about global progress on the 17 SDGs, click here to read the latest Sustainable Development Goals Report 2024. To learn more about global progress on the 17 SDGs, click here to read the latest Sustainable Development Goals Report 2024. SDG 17: Partnershipsfor the Goals 2024 Strengthen the means of implementation and revitalize the Global Partnership for Sustainable Development Developing countries face a $4 trillion annual investment gap to achieve the SDGs. Foreign direct\",\n",
       "  'metadatas': None}]"
      ]
     },
     "execution_count": 121,
     "metadata": {},
     "output_type": "execute_result"
    }
   ],
   "source": [
    "# Example query to test the retriever\n",
    "retriever_model4(\"sustainable finance\")"
   ]
  },
  {
   "cell_type": "code",
   "execution_count": 122,
   "id": "1d330367-18c7-4c76-bcc0-38d18c2e4f19",
   "metadata": {},
   "outputs": [],
   "source": [
    "import chromadb\n",
    "from chromadb.utils import embedding_functions\n",
    "import dspy\n",
    "from dspy.retrieve.chromadb_rm import ChromadbRM\n",
    "from dspy.datasets import HotPotQA"
   ]
  },
  {
   "cell_type": "code",
   "execution_count": 123,
   "id": "5a57face-93db-40ef-8c49-5c24beec8e97",
   "metadata": {},
   "outputs": [],
   "source": [
    "#class is used to generate an answer using a question and context\n",
    "class GenerateAnswer(dspy.Signature):\n",
    "    \"\"\"Answer questions with short factoid answers.\"\"\"\n",
    "    context = dspy.InputField(desc=\"may contain relevant facts\")\n",
    "    question = dspy.InputField()\n",
    "    answer = dspy.OutputField()"
   ]
  },
  {
   "cell_type": "code",
   "execution_count": 124,
   "id": "2004f318-8582-40e1-9f5a-71326417e8ee",
   "metadata": {},
   "outputs": [],
   "source": [
    "class GenerateSearchQuery(dspy.Signature):\n",
    "    \"\"\"Write a simple search query that will help answer a complex question.\"\"\"\n",
    "    context = dspy.InputField(desc=\"may contain   relevant facts\")\n",
    "    question = dspy.InputField()\n",
    "    query = dspy.OutputField()"
   ]
  },
  {
   "cell_type": "code",
   "execution_count": 125,
   "id": "1128f982-a8f4-4946-be30-641dbda7b39c",
   "metadata": {},
   "outputs": [],
   "source": [
    "class RAG(dspy.Module):\n",
    "    def __init__(self, num_passages=3):\n",
    "        super().__init__()\n",
    "\n",
    "        self.retrieve = dspy.Retrieve(k=num_passages)\n",
    "        self.generate_answer = dspy.ChainOfThought(GenerateAnswer)\n",
    "\n",
    "    def forward(self, question):\n",
    "        context = self.retrieve(question).passages\n",
    "        with dspy.context(lm=llm4):\n",
    "            pred = self.generate_answer(context=context, question=question).answer\n",
    "        return dspy.Prediction(context=context, answer=pred, question=question)"
   ]
  },
  {
   "cell_type": "code",
   "execution_count": 126,
   "id": "12c01130-ab30-400e-81b4-76db99485062",
   "metadata": {
    "scrolled": true
   },
   "outputs": [
    {
     "name": "stdout",
     "output_type": "stream",
     "text": [
      "   ID                                     Input (Prompt)  \\\n",
      "0   1  Can you exract the 10 topic names, don't write...   \n",
      "1   2                        Can you exract topic names?   \n",
      "2   3  Can you exract the optimal number of topic nam...   \n",
      "3   4  Can you exract the optimal number of topic nam...   \n",
      "4   5  Can you find exactly 10 relevant topics from t...   \n",
      "\n",
      "                            Expected Output (Topics)  \n",
      "0  Global Financial System  \\nBanking Sector Heal...  \n",
      "1  \\n1. **Global Financial System**\\n2. **Banking...  \n",
      "2  n1. Global Financial System\\n2. Banking Sector...  \n",
      "3  Global Financial System  \\nBanking Sector Heal...  \n",
      "4   Global Financial System\\n- Banking Sector Hea...  \n"
     ]
    }
   ],
   "source": [
    "import pandas as pd\n",
    "df = pd.read_excel(\"promptQuestions.xlsx\")\n",
    "print(df.head())\n",
    "from sklearn.model_selection import train_test_split\n",
    "train_df, test_df = train_test_split(df, test_size=0.2, random_state=42)\n",
    "# Convert DataFrame rows into DSPy Examples\n",
    "trainset = [\n",
    "    dspy.Example(question=row[\"Input (Prompt)\"].strip(), answer=row[\"Expected Output (Topics)\"].strip()).with_inputs(\"question\")\n",
    "    for _, row in train_df.iterrows()\n",
    "]\n",
    "\n",
    "testset = [\n",
    "    dspy.Example(question=row[\"Input (Prompt)\"].strip(), answer=row[\"Expected Output (Topics)\"].strip()).with_inputs(\"question\")\n",
    "    for _, row in test_df.iterrows()\n",
    "]"
   ]
  },
  {
   "cell_type": "code",
   "execution_count": 127,
   "id": "a2772669-bc4a-4d23-9be1-a4e69d479996",
   "metadata": {
    "scrolled": true
   },
   "outputs": [
    {
     "data": {
      "text/plain": [
       "[Example({'question': 'Can you identify and extract only the key topics mentioned in the text, without additional descriptions or formatting.', 'answer': \"1. Global Financial System\\\\n2. Banking Sector Health\\\\n3. Monetary Policy\\\\n4. Financial Stability Risks\\\\n5. Investment Landscape\\\\n6. Debt and Leverage\\\\n7. Economic Impact and Risks\\\\n8. China's Financial System\\\\n9. Policymaker Challenges\\\\n10. Global Economic Outlook\\\\n11. Banking Sector Vulnerabilities\\\\n12. Global Systemically Important Banks (GSIBs)\\\\n13. Regulatory Frameworks\\\\n14. Policymaking and Economic Growth\\\\n15. Monetary Policy Normalization\\\\n16. Nonbank Financial Sector Regulation\\\\n17. Debt Management\\\\n18. Emerging Market Resilience\\\\n19. Household Debt and Economic Growth\\\\n20. Financial Conditions and Growth Prediction\\\\n21. Financial Markets\\\\n22. Financial Vulnerabilities\\\\n23. Challenges for Policymakers\\\\n24. China's Economic Situation\"}) (input_keys={'question'}),\n",
       " Example({'question': \"Can you exract the 10 topic names, don't write numbers Only pull topics from the transcript. Do not use the examples\", 'answer': \"Global Financial System  \\\\nBanking Sector Health  \\\\nMonetary Policy  \\\\nFinancial Stability Risks  \\\\nInvestment Landscape  \\\\nDebt and Leverage  \\\\nEconomic Impact and Risks  \\\\nChina's Financial System  \\\\nPolicymaker Challenges  \\\\nGlobal Economic Outlook\"}) (input_keys={'question'}),\n",
       " Example({'question': 'Can you determine and list 10 meaningful topics from the input data. Avoid numbering or explanations.', 'answer': \"- Global Financial System and Regulatory Enhancements\\\\n- Banking Sector Health and Vulnerabilities\\\\n- Monetary Policy Normalization and Challenges\\\\n- Financial Stability Risks and Asset Valuations\\\\n- Debt Levels and Servicing in Major Economies\\\\n- Investment Landscape and Search for Yield\\\\n- Economic Impact Scenarios and Global Growth Risks\\\\n- China's Financial System and Credit Management\\\\n- Policymaker Challenges in Supporting Recovery\\\\n- Household Debt and Economic Growth Trade-offs\"}) (input_keys={'question'}),\n",
       " Example({'question': 'Can you exract the optimal number of topic names for each row in the input data frame.', 'answer': 'n1. Global Financial System\\\\n2. Banking Sector Health\\\\n3. Monetary Policy\\\\n4. Financial Stability Risks\\\\n5. Investment Landscape\\\\n6. Debt and Leverage\\\\n7. Economic Impact Scenarios\\\\n8. Policymaker Challenges\\\\n9. China\\'s Financial System\\\\n10. Global Economic Outlook\\\\n\\\\n### Transcript 2 Topics:\\\\n1. Banking Sector Vulnerabilities\\\\n2. Global Systemically Important Banks (GSIBs)\\\\n3. Regulatory Frameworks\\\\n4. Monetary Policy\\\\n5. Financial Stability Risks\\\\n6. Policymaker Actions\\\\n7. Global Economic Outlook\\\\n8. China\\'s Financial System\\\\n9. Debt Overhangs\\\\n10. Investment Landscape\\\\n\\\\n### Transcript 3 Topics:\\\\n1. Legacy Issues and Restructuring Challenges\\\\n2. Life Insurers and Business Strategies\\\\n3. Policymakers and Regulatory Actions\\\\n4. Monetary Policy Normalization\\\\n5. Macroprudential Measures\\\\n6. Nonbank Financial Sector Regulation\\\\n7. Debt Overhangs and Financial Risk\\\\n8. Emerging Market Economies\\\\n9. China\\'s Financial System Risks\\\\n10. Household Debt and Economic Growth\\\\n11. Financial Conditions and Growth Predictions\\\\n12. Global Financial System Health\\\\n13. Monetary Policy Challenges\\\\n\\\\n### Transcript 4 Topics:\\\\n1. Monetary Policy\\\\n2. Financial Markets\\\\n3. Global Economy\\\\n4. Debt and Leverage\\\\n5. Investment Trends\\\\n6. Vulnerabilities\\\\n7. Geographical Focus\\\\n8. Economic Scenarios\\\\n9. Capital and Banking\\\\n10. Statistical Insights\\\\n\\\\nThese topics encapsulate the key themes discussed across the transcripts, focusing on financial systems, monetary policies, economic outlooks, and regulatory challenges.\"'}) (input_keys={'question'}),\n",
       " Example({'question': 'Can you identify and list the key discussion points from the transcript. Only return topic names without numbering or additional context.', 'answer': \"Global Financial System  \\\\nBanking Sector Health  \\\\nMonetary Policy  \\\\nFinancial Stability Risks  \\\\nInvestment Landscape  \\\\nDebt and Leverage  \\\\nEconomic Impact and Risks  \\\\nChina's Financial System  \\\\nGlobal Economic Outlook  \\\\nPolicymaker Challenges  \\\\nBanking Sector Vulnerabilities  \\\\nGlobal Systemically Important Banks (GSIBs)  \\\\nRegulatory Frameworks  \\\\nMonetary Policy Normalization  \\\\nEconomic Outlook  \\\\nDebt and Leverage Concerns  \\\\nChina's Financial System  \\\\nPolicymaker Recommendations  \\\\nMarket Dynamics  \\\\nLegacy Issues in Banking  \\\\nBanking Sector Restructuring  \\\\nLife Insurance Sector Adaptation  \\\\nPolicymaking and Regulation  \\\\nNonbank Financial Sector Regulation  \\\\nDebt Management  \\\\nEmerging Market Resilience  \\\\nHousehold Debt and Economic Growth  \\\\nFinancial Conditions and Growth Prediction  \\\\nGlobal Financial System Health  \\\\nMonetary Policy Challenges  \\\\nFinancial Markets  \\\\nGlobal Economy  \\\\nInvestment Trends  \\\\nEmerging Markets  \\\\nEconomic Impact  \\\\nGeographical Focus  \\\\nChallenges for Policymakers  \\\\nDeleveraging\"}) (input_keys={'question'}),\n",
       " Example({'question': 'Can you find exactly 10 relevant topics from the provided text without using numbers. Avoid extra details.', 'answer': \"Global Financial System\\\\n- Banking Sector Health\\\\n- Monetary Policy\\\\n- Financial Stability Risks\\\\n- Investment Landscape\\\\n- Debt and Leverage\\\\n- Economic Impact Scenarios\\\\n- China's Financial System\\\\n- Policy Challenges\\\\n- Emerging Market Economies\"}) (input_keys={'question'}),\n",
       " Example({'question': \"Can you exract the optimal number of topic names for each row in the input data frame. Don't write numbers. Only pull topics from the transcript. Do not use examples.\", 'answer': \"Global Financial System  \\\\nBanking Sector Health  \\\\nMonetary Policy  \\\\nFinancial Stability Risks  \\\\nInvestment Landscape  \\\\nDebt and Leverage  \\\\nEconomic Impact and Risks  \\\\nPolicymaker Challenges  \\\\nChina's Financial System  \\\\nGlobal Economic Outlook  \\\\n\\\\nBanking Sector Vulnerabilities  \\\\nGlobal Systemically Important Banks (GSIBs)  \\\\nRegulatory Frameworks  \\\\nPolicymaking and Economic Growth  \\\\nMonetary Policy Normalization  \\\\nFinancial Stability Risks  \\\\nNonbank Financial Sector  \\\\nGlobal Economic Outlook  \\\\nDebt Levels and Servicing Pressures  \\\\nChina's Financial System  \\\\n\\\\nLegacy Issues in Banking  \\\\nBanking Sector Restructuring  \\\\nLife Insurance Sector Adaptation  \\\\nPolicymaking and Regulation  \\\\nDebt Management  \\\\nEmerging Market Economies  \\\\nChina's Financial System  \\\\nHousehold Debt and Economic Growth  \\\\nFinancial Conditions and Growth Prediction  \\\\nGlobal Financial System Health  \\\\nMonetary Policy Challenges  \\\\n\\\\nMonetary Policy  \\\\nFinancial Markets  \\\\nGlobal Economy  \\\\nDebt and Leverage  \\\\nInvestment Trends  \\\\nVulnerabilities  \\\\nEconomic Impact  \\\\nGeographical Focus  \\\\nRisks and Challenges  \\\\nIMF Report Context\"}) (input_keys={'question'}),\n",
       " Example({'question': 'Can you extract the most important topics appearing in the transcript. Do not include examples or summaries.', 'answer': \"1. **Global Financial System**\\\\n2. **Banking Sector Health**\\\\n3. **Monetary Policy**\\\\n4. **Financial Stability Risks**\\\\n5. **Investment Landscape**\\\\n6. **Debt and Leverage**\\\\n7. **Economic Impact and Risks**\\\\n8. **China's Financial System**\\\\n9. **Global Economic Outlook**\\\\n10. **Policy Challenges**\\\\n11. **Banking Sector Vulnerabilities**\\\\n12. **Global Systemically Important Banks (GSIBs)**\\\\n13. **Regulatory Frameworks**\\\\n14. **Policymaking and Economic Growth**\\\\n15. **Monetary Policy Normalization**\\\\n16. **Nonbank Financial Sector**\\\\n17. **Legacy Issues and Restructuring Challenges**\\\\n18. **Life Insurers and Business Strategies**\\\\n19. **Macroprudential Measures**\\\\n20. **Debt Overhangs and Financial Risk**\\\\n21. **Emerging Market Economies**\\\\n22. **Household Debt and Economic Growth**\\\\n23. **Financial Conditions and Growth Predictions**\\\\n24. **Financial Markets**\\\\n25. **Investment Trends**\\\\n26. **Vulnerabilities**\\\\n27. **Geographical Focus**\\\\n28. **Potential Risks**\\\\n29. **Deleveraging**\"}) (input_keys={'question'})]"
      ]
     },
     "execution_count": 127,
     "metadata": {},
     "output_type": "execute_result"
    }
   ],
   "source": [
    "trainset"
   ]
  },
  {
   "cell_type": "code",
   "execution_count": 128,
   "id": "0bf0ff8d-4bf9-49e9-bc85-d8124dae38e7",
   "metadata": {},
   "outputs": [
    {
     "data": {
      "text/plain": [
       "generate_answer.predict = Predict(StringSignature(context, question -> reasoning, answer\n",
       "    instructions='Answer questions with short factoid answers.'\n",
       "    context = Field(annotation=str required=True json_schema_extra={'desc': 'may contain relevant facts', '__dspy_field_type': 'input', 'prefix': 'Context:'})\n",
       "    question = Field(annotation=str required=True json_schema_extra={'__dspy_field_type': 'input', 'prefix': 'Question:', 'desc': '${question}'})\n",
       "    reasoning = Field(annotation=str required=True json_schema_extra={'prefix': \"Reasoning: Let's think step by step in order to\", 'desc': '${reasoning}', '__dspy_field_type': 'output'})\n",
       "    answer = Field(annotation=str required=True json_schema_extra={'__dspy_field_type': 'output', 'prefix': 'Answer:', 'desc': '${answer}'})\n",
       "))"
      ]
     },
     "execution_count": 128,
     "metadata": {},
     "output_type": "execute_result"
    }
   ],
   "source": [
    "# Ask any question you like to this simple RAG program.\n",
    "my_question = \"Can you exract the 10 topic names, without writing numbers and pulling topics from the transcript?\"\n",
    "\n",
    "# Get the prediction. This contains `pred.context` and `pred.answer`.\n",
    "rag_pipeline=RAG()\n",
    "pred=rag_pipeline(my_question)\n",
    "rag_pipeline"
   ]
  },
  {
   "cell_type": "code",
   "execution_count": 129,
   "id": "2f9d6eb0-d0e3-41e8-9a7d-cbd59ace128b",
   "metadata": {
    "scrolled": true
   },
   "outputs": [
    {
     "name": "stdout",
     "output_type": "stream",
     "text": [
      "Prediction(\n",
      "    context=['to stem from low long-term interest rates in mature markets, which have been caused by a variety of reasons. These include the low level of investment that has resulted in an excess supply of global saving, a reduction in inflation risk premia due to greater central bank credibility, reserve accumulation by Asian central banks, and an ongoing shift in institu- tional investor portfolio preferences from equities to bonds. In part reflecting this last factor, equity earnings yields remain relatively high compared to risk-free government bond yields. The search for yield has also been stim- ulated by continued subdued volatility across most financial markets. Directors noted the impact of the search for yield in credit and mortgage markets. Given the compression of spreads in credit markets, investors have increasingly turned to using leverage in various ways to enhance returns, including through a proliferation of struc- tured credit products. They noted that the market quickly', 'noted that shifts in asset allocations by such institutions might unsettle emerging markets with relatively shallow financial markets, or amplify long swings and hinder market price discovery. Directors noted the sustained decline in home bias on the part of institutional investors throughout mature economies over the past 15 years, particularly with regard to equity holdings. Directors agreed that major factors cited in the shift toward more interna- tionalized portfolios included less strict invest- ment restrictions, reduced information costs, and the spread of modern portfolio manage- ment practices. By raising average returns while reducing portfolio volatility, these devel- opments have bolstered financial stability. However, Directors noted that the decline in home bias has also increased cross-border cap- ital flows and has probably led to greater cross-border correlations among asset mar- kets. Accordingly, Directors underscored that Fund surveillance has taken on even', 'frameworks, and of improving basic financial education especially among individual investors. In the context of rising household indebtedness, mainly in the mortgage market, Directors welcomed the warnings that regula- tors in some major countries have given to their lending institutions to tighten credit standards. For the medium term, the risk of growing global imbalances has to be addressed by a cooperative effort by the major coun- tries, with each adopting policies appropriate to its circumstances. Aspects of Global Asset Allocation Directors welcomed the work undertaken by staff on global asset allocation and the increasing role of institutional investors in financial markets. They noted that a better understanding of the investment patterns of pension funds, insurance companies, mutual funds, and, increasingly, hedge funds would help anticipate the potential for abrupt changes in capital flows across borders and asset classes, with direct relevance to financial stability and to'],\n",
      "    answer='- Low long-term interest rates\\n- Global saving excess\\n- Shifts in institutional investor portfolios\\n- Equity versus bond yields\\n- Search for yield\\n- Credit and mortgage markets\\n- Home bias decline\\n- Cross-border capital flows\\n- Financial stability\\n- Global asset allocation',\n",
      "    question='Can you identify and extract only the key topics mentioned in the text, without additional descriptions or formatting.'\n",
      ")\n"
     ]
    }
   ],
   "source": [
    "rag_model = RAG()\n",
    "test_output = rag_model.forward(trainset_examples[0][\"question\"])\n",
    "print(test_output)"
   ]
  },
  {
   "cell_type": "code",
   "execution_count": 130,
   "id": "9f1e3f99-5378-45ca-af60-05df9b1b3675",
   "metadata": {
    "scrolled": true
   },
   "outputs": [
    {
     "name": "stdout",
     "output_type": "stream",
     "text": [
      "Question: Can you exract the 10 topic names, don't write numbers Only pull topics from the transcript. Do not use the examples\n",
      "Predicted Answer: corporate credit market\n",
      "hedge fund operations\n",
      "structured products\n",
      "risk management\n",
      "counterparty risk\n",
      "disclosure and transparency\n",
      "household indebtedness\n",
      "global imbalances\n",
      "global asset allocation\n",
      "role of institutional investors\n",
      "Retrieved Contexts (truncated): ['stabilized following distur- bances in the credit derivatives market in April and May related to developments in the 148 ANNEX SUMMING UP BY THE CHAIRMAN 148 The following remarks by the Chairman were...', 'and emerging markets. A number of Directors, however, stressed the need to guard against the potentially destabilizing effect of hedge fund operations and of the growing use of structured products, wh...', 'frameworks, and of improving basic financial education especially among individual investors. In the context of rising household indebtedness, mainly in the mortgage market, Directors welcomed the war...']\n"
     ]
    }
   ],
   "source": [
    "# Print the contexts and the answer.\n",
    "print(f\"Question: {trainset[1].question}\")\n",
    "print(f\"Predicted Answer: {pred.answer}\")\n",
    "print(f\"Retrieved Contexts (truncated): {[c[:200] + '...' for c in pred.context]}\")"
   ]
  },
  {
   "cell_type": "code",
   "execution_count": 92,
   "id": "0e8fdcad-6fd0-45c6-89ad-56b128207384",
   "metadata": {},
   "outputs": [],
   "source": [
    "from dspy.evaluate import SemanticF1\n",
    "from dspy.teleprompt import MIPROv2, COPRO\n",
    "#metric = SemanticF1(decompositional=True)"
   ]
  },
  {
   "cell_type": "code",
   "execution_count": 66,
   "id": "97eca2d5-e703-4a3b-a472-6244b036f9cf",
   "metadata": {},
   "outputs": [],
   "source": [
    "from haystack.components.evaluators import SASEvaluator\n",
    "sas_evaluator = SASEvaluator()\n",
    "sas_evaluator.warm_up()\n",
    "\n",
    "#SAS is more than semantic similarity it stands for SEMANTIC ANSWER SIMILARITY\n",
    "\n",
    "def mixed_metric(example, pred, trace=None):\n",
    "    semantic_similarity = sas_evaluator.run(ground_truth_answers=[example.answer], predicted_answers=[pred.answer])[\"score\"]\n",
    "\n",
    "    n_words=len(pred.answer.split())\n",
    "    long_answer_penalty=0\n",
    "    if 20==40:\n",
    "      long_answer_penalty = 0.5\n",
    "\n",
    "    return semantic_similarity - long_answer_penalty"
   ]
  },
  {
   "cell_type": "code",
   "execution_count": 135,
   "id": "4fada347-6de9-405a-8758-c14e0d1b43a4",
   "metadata": {},
   "outputs": [
    {
     "name": "stderr",
     "output_type": "stream",
     "text": [
      "2025/03/06 12:16:00 INFO dspy.teleprompt.mipro_optimizer_v2: \n",
      "RUNNING WITH THE FOLLOWING LIGHT AUTO RUN SETTINGS:\n",
      "num_trials: 7\n",
      "minibatch: False\n",
      "num_candidates: 5\n",
      "valset size: 6\n",
      "\n",
      "2025/03/06 12:16:00 INFO dspy.teleprompt.mipro_optimizer_v2: \n",
      "==> STEP 1: BOOTSTRAP FEWSHOT EXAMPLES <==\n",
      "2025/03/06 12:16:00 INFO dspy.teleprompt.mipro_optimizer_v2: These will be used as few-shot example candidates for our program and for creating instructions.\n",
      "\n",
      "2025/03/06 12:16:00 INFO dspy.teleprompt.mipro_optimizer_v2: Bootstrapping N=5 sets of demonstrations...\n"
     ]
    },
    {
     "name": "stdout",
     "output_type": "stream",
     "text": [
      "Bootstrapping set 1/5\n",
      "Bootstrapping set 2/5\n",
      "Bootstrapping set 3/5\n"
     ]
    },
    {
     "name": "stderr",
     "output_type": "stream",
     "text": [
      "100%|████████████████████████████████████████████████████████████████████████████████████| 2/2 [00:00<00:00,  2.93it/s]\n"
     ]
    },
    {
     "name": "stdout",
     "output_type": "stream",
     "text": [
      "Bootstrapped 2 full traces after 1 examples for up to 1 rounds, amounting to 2 attempts.\n",
      "Bootstrapping set 4/5\n"
     ]
    },
    {
     "name": "stderr",
     "output_type": "stream",
     "text": [
      "100%|████████████████████████████████████████████████████████████████████████████████████| 2/2 [00:00<00:00,  3.14it/s]\n"
     ]
    },
    {
     "name": "stdout",
     "output_type": "stream",
     "text": [
      "Bootstrapped 2 full traces after 1 examples for up to 1 rounds, amounting to 2 attempts.\n",
      "Bootstrapping set 5/5\n"
     ]
    },
    {
     "name": "stderr",
     "output_type": "stream",
     "text": [
      " 50%|██████████████████████████████████████████                                          | 1/2 [00:00<00:00,  2.77it/s]\n"
     ]
    },
    {
     "name": "stdout",
     "output_type": "stream",
     "text": [
      "Bootstrapped 1 full traces after 1 examples for up to 1 rounds, amounting to 1 attempts.\n"
     ]
    },
    {
     "name": "stderr",
     "output_type": "stream",
     "text": [
      "2025/03/06 12:16:01 INFO dspy.teleprompt.mipro_optimizer_v2: \n",
      "==> STEP 2: PROPOSE INSTRUCTION CANDIDATES <==\n",
      "2025/03/06 12:16:01 INFO dspy.teleprompt.mipro_optimizer_v2: We will use the few-shot examples from the previous step, a generated dataset summary, a summary of the program code, and a randomly selected prompting tip to propose instructions.\n",
      "2025/03/06 12:16:01 INFO dspy.teleprompt.mipro_optimizer_v2: \n",
      "Proposing instructions...\n",
      "\n",
      "2025/03/06 12:16:31 INFO dspy.teleprompt.mipro_optimizer_v2: Proposed Instructions for Predictor 0:\n",
      "\n",
      "2025/03/06 12:16:31 INFO dspy.teleprompt.mipro_optimizer_v2: 0: Answer questions with short factoid answers.\n",
      "\n",
      "2025/03/06 12:16:31 INFO dspy.teleprompt.mipro_optimizer_v2: 1: In a high-stakes financial environment, you are tasked with providing swift and accurate insights on critical topics impacting global financial stability. Given the context of recent market fluctuations and economic challenges, extract and list the key topics mentioned in the provided context without any additional descriptions or formatting. Your response should be concise and directly address the question posed.\n",
      "\n",
      "2025/03/06 12:16:31 INFO dspy.teleprompt.mipro_optimizer_v2: 2: You are a financial analyst tasked with summarizing key topics from the provided context regarding the global financial system. Based on the context and the question, generate a reasoning statement that outlines your thought process in identifying the key topics, followed by a concise list of the key topics mentioned in the text. Ensure that your output is clear and free of additional descriptions or formatting.\n",
      "\n",
      "2025/03/06 12:16:31 INFO dspy.teleprompt.mipro_optimizer_v2: 3: You are a financial analyst tasked with extracting key topics from complex financial texts. Based on the provided context, answer the question by identifying and listing the key topics mentioned in the text. Ensure that your response includes only the topics without additional descriptions or formatting.\n",
      "\n",
      "2025/03/06 12:16:31 INFO dspy.teleprompt.mipro_optimizer_v2: 4: You are a financial analyst tasked with extracting key topics from a given context related to the global financial system. Based on the provided text, identify and list only the key topics mentioned without additional descriptions or formatting.\n",
      "\n",
      "2025/03/06 12:16:31 INFO dspy.teleprompt.mipro_optimizer_v2: \n",
      "\n",
      "2025/03/06 12:16:31 INFO dspy.teleprompt.mipro_optimizer_v2: ==> STEP 3: FINDING OPTIMAL PROMPT PARAMETERS <==\n",
      "2025/03/06 12:16:31 INFO dspy.teleprompt.mipro_optimizer_v2: We will evaluate the program over a series of trials with different combinations of instructions and few-shot examples to find the optimal combination using Bayesian Optimization.\n",
      "\n",
      "2025/03/06 12:16:31 INFO dspy.teleprompt.mipro_optimizer_v2: == Trial 1 / 7 - Full Evaluation of Default Program ==\n"
     ]
    },
    {
     "name": "stdout",
     "output_type": "stream",
     "text": [
      "Average Metric: 3.42 / 6 (57.0%): 100%|██████████████████████████████████████████████████| 6/6 [00:02<00:00,  2.60it/s]\n"
     ]
    },
    {
     "name": "stderr",
     "output_type": "stream",
     "text": [
      "2025/03/06 12:16:33 INFO dspy.evaluate.evaluate: Average Metric: 3.4186214953660965 / 6 (57.0%)\n",
      "2025/03/06 12:16:33 INFO dspy.teleprompt.mipro_optimizer_v2: Default program score: 56.98\n",
      "\n",
      "C:\\Users\\Buket Fildisi\\anaconda3\\Lib\\site-packages\\optuna\\_experimental.py:31: ExperimentalWarning: Argument ``multivariate`` is an experimental feature. The interface can change in the future.\n",
      "  warnings.warn(\n",
      "2025/03/06 12:16:33 INFO dspy.teleprompt.mipro_optimizer_v2: ===== Trial 2 / 7 =====\n"
     ]
    },
    {
     "name": "stdout",
     "output_type": "stream",
     "text": [
      "Average Metric: 3.90 / 6 (65.1%): 100%|██████████████████████████████████████████████████| 6/6 [00:07<00:00,  1.22s/it]\n"
     ]
    },
    {
     "name": "stderr",
     "output_type": "stream",
     "text": [
      "2025/03/06 12:16:41 INFO dspy.evaluate.evaluate: Average Metric: 3.9034435749053955 / 6 (65.1%)\n",
      "2025/03/06 12:16:41 INFO dspy.teleprompt.mipro_optimizer_v2: Best full score so far! Score: 65.06\n",
      "2025/03/06 12:16:41 INFO dspy.teleprompt.mipro_optimizer_v2: Score: 65.06 with parameters ['Predictor 0: Instruction 1', 'Predictor 0: Few-Shot Set 1'].\n",
      "2025/03/06 12:16:41 INFO dspy.teleprompt.mipro_optimizer_v2: Scores so far: [56.98, 65.06]\n",
      "2025/03/06 12:16:41 INFO dspy.teleprompt.mipro_optimizer_v2: Best score so far: 65.06\n",
      "2025/03/06 12:16:41 INFO dspy.teleprompt.mipro_optimizer_v2: =======================\n",
      "\n",
      "\n",
      "2025/03/06 12:16:41 INFO dspy.teleprompt.mipro_optimizer_v2: ===== Trial 3 / 7 =====\n"
     ]
    },
    {
     "name": "stdout",
     "output_type": "stream",
     "text": [
      "Average Metric: 3.96 / 6 (66.0%): 100%|██████████████████████████████████████████████████| 6/6 [00:04<00:00,  1.33it/s]\n"
     ]
    },
    {
     "name": "stderr",
     "output_type": "stream",
     "text": [
      "2025/03/06 12:16:45 INFO dspy.evaluate.evaluate: Average Metric: 3.9601704478263855 / 6 (66.0%)\n",
      "2025/03/06 12:16:45 INFO dspy.teleprompt.mipro_optimizer_v2: Best full score so far! Score: 66.0\n",
      "2025/03/06 12:16:45 INFO dspy.teleprompt.mipro_optimizer_v2: Score: 66.0 with parameters ['Predictor 0: Instruction 2', 'Predictor 0: Few-Shot Set 1'].\n",
      "2025/03/06 12:16:45 INFO dspy.teleprompt.mipro_optimizer_v2: Scores so far: [56.98, 65.06, 66.0]\n",
      "2025/03/06 12:16:45 INFO dspy.teleprompt.mipro_optimizer_v2: Best score so far: 66.0\n",
      "2025/03/06 12:16:45 INFO dspy.teleprompt.mipro_optimizer_v2: =======================\n",
      "\n",
      "\n",
      "2025/03/06 12:16:45 INFO dspy.teleprompt.mipro_optimizer_v2: ===== Trial 4 / 7 =====\n"
     ]
    },
    {
     "name": "stdout",
     "output_type": "stream",
     "text": [
      "Average Metric: 4.09 / 6 (68.2%): 100%|██████████████████████████████████████████████████| 6/6 [00:08<00:00,  1.45s/it]\n"
     ]
    },
    {
     "name": "stderr",
     "output_type": "stream",
     "text": [
      "2025/03/06 12:16:54 INFO dspy.evaluate.evaluate: Average Metric: 4.092967212200165 / 6 (68.2%)\n",
      "2025/03/06 12:16:54 INFO dspy.teleprompt.mipro_optimizer_v2: Best full score so far! Score: 68.22\n",
      "2025/03/06 12:16:54 INFO dspy.teleprompt.mipro_optimizer_v2: Score: 68.22 with parameters ['Predictor 0: Instruction 4', 'Predictor 0: Few-Shot Set 1'].\n",
      "2025/03/06 12:16:54 INFO dspy.teleprompt.mipro_optimizer_v2: Scores so far: [56.98, 65.06, 66.0, 68.22]\n",
      "2025/03/06 12:16:54 INFO dspy.teleprompt.mipro_optimizer_v2: Best score so far: 68.22\n",
      "2025/03/06 12:16:54 INFO dspy.teleprompt.mipro_optimizer_v2: =======================\n",
      "\n",
      "\n",
      "2025/03/06 12:16:54 INFO dspy.teleprompt.mipro_optimizer_v2: ===== Trial 5 / 7 =====\n"
     ]
    },
    {
     "name": "stdout",
     "output_type": "stream",
     "text": [
      "Average Metric: 3.96 / 6 (66.0%): 100%|██████████████████████████████████████████████████| 6/6 [00:01<00:00,  3.39it/s]\n"
     ]
    },
    {
     "name": "stderr",
     "output_type": "stream",
     "text": [
      "2025/03/06 12:16:56 INFO dspy.evaluate.evaluate: Average Metric: 3.9601704478263855 / 6 (66.0%)\n",
      "2025/03/06 12:16:56 INFO dspy.teleprompt.mipro_optimizer_v2: Score: 66.0 with parameters ['Predictor 0: Instruction 2', 'Predictor 0: Few-Shot Set 1'].\n",
      "2025/03/06 12:16:56 INFO dspy.teleprompt.mipro_optimizer_v2: Scores so far: [56.98, 65.06, 66.0, 68.22, 66.0]\n",
      "2025/03/06 12:16:56 INFO dspy.teleprompt.mipro_optimizer_v2: Best score so far: 68.22\n",
      "2025/03/06 12:16:56 INFO dspy.teleprompt.mipro_optimizer_v2: =======================\n",
      "\n",
      "\n",
      "2025/03/06 12:16:56 INFO dspy.teleprompt.mipro_optimizer_v2: ===== Trial 6 / 7 =====\n"
     ]
    },
    {
     "name": "stdout",
     "output_type": "stream",
     "text": [
      "Average Metric: 3.42 / 6 (56.9%): 100%|██████████████████████████████████████████████████| 6/6 [00:04<00:00,  1.42it/s]\n"
     ]
    },
    {
     "name": "stderr",
     "output_type": "stream",
     "text": [
      "2025/03/06 12:17:00 INFO dspy.evaluate.evaluate: Average Metric: 3.4158347845077515 / 6 (56.9%)\n",
      "2025/03/06 12:17:00 INFO dspy.teleprompt.mipro_optimizer_v2: Score: 56.93 with parameters ['Predictor 0: Instruction 4', 'Predictor 0: Few-Shot Set 3'].\n",
      "2025/03/06 12:17:00 INFO dspy.teleprompt.mipro_optimizer_v2: Scores so far: [56.98, 65.06, 66.0, 68.22, 66.0, 56.93]\n",
      "2025/03/06 12:17:00 INFO dspy.teleprompt.mipro_optimizer_v2: Best score so far: 68.22\n",
      "2025/03/06 12:17:00 INFO dspy.teleprompt.mipro_optimizer_v2: =======================\n",
      "\n",
      "\n",
      "2025/03/06 12:17:00 INFO dspy.teleprompt.mipro_optimizer_v2: ===== Trial 7 / 7 =====\n"
     ]
    },
    {
     "name": "stdout",
     "output_type": "stream",
     "text": [
      "Average Metric: 4.00 / 6 (66.7%): 100%|██████████████████████████████████████████████████| 6/6 [00:04<00:00,  1.35it/s]\n"
     ]
    },
    {
     "name": "stderr",
     "output_type": "stream",
     "text": [
      "2025/03/06 12:17:05 INFO dspy.evaluate.evaluate: Average Metric: 4.004719018936157 / 6 (66.7%)\n",
      "2025/03/06 12:17:05 INFO dspy.teleprompt.mipro_optimizer_v2: Score: 66.75 with parameters ['Predictor 0: Instruction 0', 'Predictor 0: Few-Shot Set 1'].\n",
      "2025/03/06 12:17:05 INFO dspy.teleprompt.mipro_optimizer_v2: Scores so far: [56.98, 65.06, 66.0, 68.22, 66.0, 56.93, 66.75]\n",
      "2025/03/06 12:17:05 INFO dspy.teleprompt.mipro_optimizer_v2: Best score so far: 68.22\n",
      "2025/03/06 12:17:05 INFO dspy.teleprompt.mipro_optimizer_v2: =======================\n",
      "\n",
      "\n",
      "2025/03/06 12:17:05 INFO dspy.teleprompt.mipro_optimizer_v2: Returning best identified program with score 68.22!\n"
     ]
    }
   ],
   "source": [
    "tp = dspy.MIPROv2(\n",
    "  metric=mixed_metric, \n",
    "  auto=\"light\",\n",
    "  prompt_model=llm4\n",
    ")\n",
    "#trainset is the evaluation\n",
    "#If the score(average metric) is low, it means there’s room for improvement\n",
    "optimized_rag = tp.compile(RAG(), trainset=trainset,\n",
    "                           max_bootstrapped_demos=4, max_labeled_demos=4,\n",
    "                           requires_permission_to_run=False)"
   ]
  },
  {
   "cell_type": "code",
   "execution_count": 136,
   "id": "cf5e9483-9763-4d52-bffd-c5759ea97e86",
   "metadata": {},
   "outputs": [
    {
     "data": {
      "text/plain": [
       "generate_answer.predict = Predict(StringSignature(context, question -> reasoning, answer\n",
       "    instructions='You are a financial analyst tasked with extracting key topics from a given context related to the global financial system. Based on the provided text, identify and list only the key topics mentioned without additional descriptions or formatting.'\n",
       "    context = Field(annotation=str required=True json_schema_extra={'desc': 'may contain relevant facts', '__dspy_field_type': 'input', 'prefix': 'Context:'})\n",
       "    question = Field(annotation=str required=True json_schema_extra={'__dspy_field_type': 'input', 'prefix': 'Question:', 'desc': '${question}'})\n",
       "    reasoning = Field(annotation=str required=True json_schema_extra={'prefix': \"Reasoning: Let's think step by step in order to\", 'desc': '${reasoning}', '__dspy_field_type': 'output'})\n",
       "    answer = Field(annotation=str required=True json_schema_extra={'__dspy_field_type': 'output', 'prefix': 'Answer:', 'desc': '${answer}'})\n",
       "))"
      ]
     },
     "execution_count": 136,
     "metadata": {},
     "output_type": "execute_result"
    }
   ],
   "source": [
    "optimized_rag"
   ]
  },
  {
   "cell_type": "code",
   "execution_count": 133,
   "id": "5ffbb561-0d4b-4fbf-8a5e-6ebd070e9b37",
   "metadata": {
    "scrolled": true
   },
   "outputs": [
    {
     "name": "stdout",
     "output_type": "stream",
     "text": [
      "\n",
      "\n",
      "\n",
      "\n",
      "[2025-03-06T12:12:30.052705]\n",
      "\n",
      "System message:\n",
      "\n",
      "Your input fields are:\n",
      "1. `context` (str): may contain relevant facts\n",
      "2. `question` (str)\n",
      "\n",
      "Your output fields are:\n",
      "1. `reasoning` (str)\n",
      "2. `answer` (str)\n",
      "\n",
      "All interactions will be structured in the following way, with the appropriate values filled in.\n",
      "\n",
      "[[ ## context ## ]]\n",
      "{context}\n",
      "\n",
      "[[ ## question ## ]]\n",
      "{question}\n",
      "\n",
      "[[ ## reasoning ## ]]\n",
      "{reasoning}\n",
      "\n",
      "[[ ## answer ## ]]\n",
      "{answer}\n",
      "\n",
      "[[ ## completed ## ]]\n",
      "\n",
      "In adhering to this structure, your objective is: \n",
      "        In a high-stakes financial meeting, you are tasked with providing concise answers to critical questions about the global financial system. Based on the provided context, extract and list only the key topics mentioned in the text without any additional descriptions or formatting. Ensure your response is clear and accurate to aid decision-making in a time-sensitive environment.\n",
      "\n",
      "\n",
      "User message:\n",
      "\n",
      "This is an example of the task, though some input or output fields are not supplied.\n",
      "\n",
      "[[ ## context ## ]]\n",
      "Not supplied for this particular example.\n",
      "\n",
      "[[ ## question ## ]]\n",
      "Can you exract the 10 topic names, don't write numbers Only pull topics from the transcript. Do not use the examples\n",
      "\n",
      "Respond with the corresponding output fields, starting with the field `[[ ## reasoning ## ]]`, then `[[ ## answer ## ]]`, and then ending with the marker for `[[ ## completed ## ]]`.\n",
      "\n",
      "\n",
      "Assistant message:\n",
      "\n",
      "[[ ## reasoning ## ]]\n",
      "Not supplied for this particular example.\n",
      "\n",
      "[[ ## answer ## ]]\n",
      "Global Financial System  \\nBanking Sector Health  \\nMonetary Policy  \\nFinancial Stability Risks  \\nInvestment Landscape  \\nDebt and Leverage  \\nEconomic Impact and Risks  \\nChina's Financial System  \\nPolicymaker Challenges  \\nGlobal Economic Outlook\n",
      "\n",
      "[[ ## completed ## ]]\n",
      "\n",
      "\n",
      "User message:\n",
      "\n",
      "[[ ## context ## ]]\n",
      "[1] «to stem from low long-term interest rates in mature markets, which have been caused by a variety of reasons. These include the low level of investment that has resulted in an excess supply of global saving, a reduction in inflation risk premia due to greater central bank credibility, reserve accumulation by Asian central banks, and an ongoing shift in institu- tional investor portfolio preferences from equities to bonds. In part reflecting this last factor, equity earnings yields remain relatively high compared to risk-free government bond yields. The search for yield has also been stim- ulated by continued subdued volatility across most financial markets. Directors noted the impact of the search for yield in credit and mortgage markets. Given the compression of spreads in credit markets, investors have increasingly turned to using leverage in various ways to enhance returns, including through a proliferation of struc- tured credit products. They noted that the market quickly»\n",
      "[2] «noted that shifts in asset allocations by such institutions might unsettle emerging markets with relatively shallow financial markets, or amplify long swings and hinder market price discovery. Directors noted the sustained decline in home bias on the part of institutional investors throughout mature economies over the past 15 years, particularly with regard to equity holdings. Directors agreed that major factors cited in the shift toward more interna- tionalized portfolios included less strict invest- ment restrictions, reduced information costs, and the spread of modern portfolio manage- ment practices. By raising average returns while reducing portfolio volatility, these devel- opments have bolstered financial stability. However, Directors noted that the decline in home bias has also increased cross-border cap- ital flows and has probably led to greater cross-border correlations among asset mar- kets. Accordingly, Directors underscored that Fund surveillance has taken on even»\n",
      "[3] «frameworks, and of improving basic financial education especially among individual investors. In the context of rising household indebtedness, mainly in the mortgage market, Directors welcomed the warnings that regula- tors in some major countries have given to their lending institutions to tighten credit standards. For the medium term, the risk of growing global imbalances has to be addressed by a cooperative effort by the major coun- tries, with each adopting policies appropriate to its circumstances. Aspects of Global Asset Allocation Directors welcomed the work undertaken by staff on global asset allocation and the increasing role of institutional investors in financial markets. They noted that a better understanding of the investment patterns of pension funds, insurance companies, mutual funds, and, increasingly, hedge funds would help anticipate the potential for abrupt changes in capital flows across borders and asset classes, with direct relevance to financial stability and to»\n",
      "\n",
      "[[ ## question ## ]]\n",
      "Can you identify and extract only the key topics mentioned in the text, without additional descriptions or formatting.\n",
      "\n",
      "Respond with the corresponding output fields, starting with the field `[[ ## reasoning ## ]]`, then `[[ ## answer ## ]]`, and then ending with the marker for `[[ ## completed ## ]]`.\n",
      "\n",
      "\n",
      "Assistant message:\n",
      "\n",
      "[[ ## reasoning ## ]]\n",
      "The context provided discusses various financial topics, including interest rates, investment patterns, asset allocation, and the impact of institutional investors on financial markets. By analyzing the text, I can identify the key topics mentioned without additional descriptions or formatting.\n",
      "\n",
      "[[ ## answer ## ]]\n",
      "Long-term interest rates  \\nGlobal saving  \\nSearch for yield  \\nCredit markets  \\nAsset allocations  \\nHome bias  \\nCross-border capital flows  \\nFinancial stability  \\nHousehold indebtedness  \\nGlobal imbalances\n",
      "\n",
      "[[ ## completed ## ]]\n",
      "\n",
      "\n",
      "User message:\n",
      "\n",
      "[[ ## context ## ]]\n",
      "[1] «stabilized following distur- bances in the credit derivatives market in April and May related to developments in the 148 ANNEX SUMMING UP BY THE CHAIRMAN 148 The following remarks by the Chairman were made at the conclusion of the Executive Boards discussion of the Global Financial Stability Report on August 29, 2005. U.S. auto sector, and the corporate credit mar- ket functioned surprisingly smoothly in absorbing downgrades in this sector. Directors observed that this likely reflected the relatively isolated nature of the difficulties as the corpo- rate sector remains broadly healthy, with strong balance sheets and low default rates. However, they considered that the corporate credit cycle appears to be peaking as corpora- tions have begun to increase balance sheet leverage in a variety of ways. This has increased the risk of specific corporate credit events causing corrections in credit derivative and collateralized debt obligation (CDO) markets in the period ahead. Directors noted»\n",
      "[2] «greater importance in a world in which institutional portfolios have become increasingly interna- tional. A few Directors expressed doubt about the reports findings that investors from major economies, like the United States and the United Kingdom, would have little to gain from further international diversification of portfolios. Directors discussed the implications for financial stability of proposals and potential changes in accounting policy. They recog- nized the importance of international efforts ANNEX SUMMING UP BY THE CHAIRMAN 150 SUMMING UP BY THE CHAIRMAN 151 to improve accounting principles in order to enhance the comparability and transparency of accounts and to strengthen market disci- pline. However, views differed on the impact of changes in accounting principles on finan- cial market stability. A number of Directors agreed that accounting and financial report- ing standards may influence market behavior and asset allocations by key institutional investors, including»\n",
      "[3] «and emerging markets. A number of Directors, however, stressed the need to guard against the potentially destabilizing effect of hedge fund operations and of the growing use of structured products, while preserving the benefits of these innovations in terms of mar- ket efficiency and liquidity. While considering policy measures to miti- gate risks, Directors stressed that ongoing risk management by individual financial institu- tions and supervisory scrutiny by regulators SUMMING UP BY THE CHAIRMAN 149 are the most important lines of defense. In particular, given the risk of corrections in credit derivative and CDO markets, regulators must ensure that financial institutions main- tain robust counterparty risk management practices, not least to contain the spillover effect of market corrections should they occur. Directors also stressed the importance of disclosure and transparency to enhance the flow of information, of the Standards and Codes work to help improve regulatory»\n",
      "\n",
      "[[ ## question ## ]]\n",
      "Can you extract the most important topics appearing in the transcript. Do not include examples or summaries.\n",
      "\n",
      "Respond with the corresponding output fields, starting with the field `[[ ## reasoning ## ]]`, then `[[ ## answer ## ]]`, and then ending with the marker for `[[ ## completed ## ]]`.\n",
      "\n",
      "\n",
      "Response:\n",
      "\n",
      "[[ ## reasoning ## ]]\n",
      "The context discusses various financial topics, including credit markets, corporate credit cycles, international portfolio diversification, accounting principles, hedge funds, structured products, risk management, and regulatory practices. By analyzing the text, I can identify the most important topics mentioned without including examples or summaries.\n",
      "\n",
      "[[ ## answer ## ]]\n",
      "Credit derivatives  \\nCorporate credit market  \\nBalance sheet leverage  \\nInternational portfolio diversification  \\nAccounting principles  \\nFinancial market stability  \\nHedge fund operations  \\nStructured products  \\nRisk management  \\nRegulatory practices\n",
      "\n",
      "[[ ## completed ## ]]\n",
      "\n",
      "\n",
      "\n",
      "\n",
      "\n",
      "[2025-03-06T12:12:30.056706]\n",
      "\n",
      "System message:\n",
      "\n",
      "Your input fields are:\n",
      "1. `context` (str): may contain relevant facts\n",
      "2. `question` (str)\n",
      "\n",
      "Your output fields are:\n",
      "1. `reasoning` (str)\n",
      "2. `answer` (str)\n",
      "\n",
      "All interactions will be structured in the following way, with the appropriate values filled in.\n",
      "\n",
      "[[ ## context ## ]]\n",
      "{context}\n",
      "\n",
      "[[ ## question ## ]]\n",
      "{question}\n",
      "\n",
      "[[ ## reasoning ## ]]\n",
      "{reasoning}\n",
      "\n",
      "[[ ## answer ## ]]\n",
      "{answer}\n",
      "\n",
      "[[ ## completed ## ]]\n",
      "\n",
      "In adhering to this structure, your objective is: \n",
      "        In a high-stakes financial meeting, you are tasked with providing concise answers to critical questions about the global financial system. Based on the provided context, extract and list only the key topics mentioned in the text without any additional descriptions or formatting. Ensure your response is clear and accurate to aid decision-making in a time-sensitive environment.\n",
      "\n",
      "\n",
      "User message:\n",
      "\n",
      "This is an example of the task, though some input or output fields are not supplied.\n",
      "\n",
      "[[ ## context ## ]]\n",
      "Not supplied for this particular example.\n",
      "\n",
      "[[ ## question ## ]]\n",
      "Can you exract the 10 topic names, don't write numbers Only pull topics from the transcript. Do not use the examples\n",
      "\n",
      "Respond with the corresponding output fields, starting with the field `[[ ## reasoning ## ]]`, then `[[ ## answer ## ]]`, and then ending with the marker for `[[ ## completed ## ]]`.\n",
      "\n",
      "\n",
      "Assistant message:\n",
      "\n",
      "[[ ## reasoning ## ]]\n",
      "Not supplied for this particular example.\n",
      "\n",
      "[[ ## answer ## ]]\n",
      "Global Financial System  \\nBanking Sector Health  \\nMonetary Policy  \\nFinancial Stability Risks  \\nInvestment Landscape  \\nDebt and Leverage  \\nEconomic Impact and Risks  \\nChina's Financial System  \\nPolicymaker Challenges  \\nGlobal Economic Outlook\n",
      "\n",
      "[[ ## completed ## ]]\n",
      "\n",
      "\n",
      "User message:\n",
      "\n",
      "[[ ## context ## ]]\n",
      "[1] «to stem from low long-term interest rates in mature markets, which have been caused by a variety of reasons. These include the low level of investment that has resulted in an excess supply of global saving, a reduction in inflation risk premia due to greater central bank credibility, reserve accumulation by Asian central banks, and an ongoing shift in institu- tional investor portfolio preferences from equities to bonds. In part reflecting this last factor, equity earnings yields remain relatively high compared to risk-free government bond yields. The search for yield has also been stim- ulated by continued subdued volatility across most financial markets. Directors noted the impact of the search for yield in credit and mortgage markets. Given the compression of spreads in credit markets, investors have increasingly turned to using leverage in various ways to enhance returns, including through a proliferation of struc- tured credit products. They noted that the market quickly»\n",
      "[2] «noted that shifts in asset allocations by such institutions might unsettle emerging markets with relatively shallow financial markets, or amplify long swings and hinder market price discovery. Directors noted the sustained decline in home bias on the part of institutional investors throughout mature economies over the past 15 years, particularly with regard to equity holdings. Directors agreed that major factors cited in the shift toward more interna- tionalized portfolios included less strict invest- ment restrictions, reduced information costs, and the spread of modern portfolio manage- ment practices. By raising average returns while reducing portfolio volatility, these devel- opments have bolstered financial stability. However, Directors noted that the decline in home bias has also increased cross-border cap- ital flows and has probably led to greater cross-border correlations among asset mar- kets. Accordingly, Directors underscored that Fund surveillance has taken on even»\n",
      "[3] «frameworks, and of improving basic financial education especially among individual investors. In the context of rising household indebtedness, mainly in the mortgage market, Directors welcomed the warnings that regula- tors in some major countries have given to their lending institutions to tighten credit standards. For the medium term, the risk of growing global imbalances has to be addressed by a cooperative effort by the major coun- tries, with each adopting policies appropriate to its circumstances. Aspects of Global Asset Allocation Directors welcomed the work undertaken by staff on global asset allocation and the increasing role of institutional investors in financial markets. They noted that a better understanding of the investment patterns of pension funds, insurance companies, mutual funds, and, increasingly, hedge funds would help anticipate the potential for abrupt changes in capital flows across borders and asset classes, with direct relevance to financial stability and to»\n",
      "\n",
      "[[ ## question ## ]]\n",
      "Can you identify and extract only the key topics mentioned in the text, without additional descriptions or formatting.\n",
      "\n",
      "Respond with the corresponding output fields, starting with the field `[[ ## reasoning ## ]]`, then `[[ ## answer ## ]]`, and then ending with the marker for `[[ ## completed ## ]]`.\n",
      "\n",
      "\n",
      "Assistant message:\n",
      "\n",
      "[[ ## reasoning ## ]]\n",
      "The context provided discusses various financial topics, including interest rates, investment patterns, asset allocation, and the impact of institutional investors on financial markets. By analyzing the text, I can identify the key topics mentioned without additional descriptions or formatting.\n",
      "\n",
      "[[ ## answer ## ]]\n",
      "Long-term interest rates  \\nGlobal saving  \\nSearch for yield  \\nCredit markets  \\nAsset allocations  \\nHome bias  \\nCross-border capital flows  \\nFinancial stability  \\nHousehold indebtedness  \\nGlobal imbalances\n",
      "\n",
      "[[ ## completed ## ]]\n",
      "\n",
      "\n",
      "User message:\n",
      "\n",
      "[[ ## context ## ]]\n",
      "[1] «frameworks, and of improving basic financial education especially among individual investors. In the context of rising household indebtedness, mainly in the mortgage market, Directors welcomed the warnings that regula- tors in some major countries have given to their lending institutions to tighten credit standards. For the medium term, the risk of growing global imbalances has to be addressed by a cooperative effort by the major coun- tries, with each adopting policies appropriate to its circumstances. Aspects of Global Asset Allocation Directors welcomed the work undertaken by staff on global asset allocation and the increasing role of institutional investors in financial markets. They noted that a better understanding of the investment patterns of pension funds, insurance companies, mutual funds, and, increasingly, hedge funds would help anticipate the potential for abrupt changes in capital flows across borders and asset classes, with direct relevance to financial stability and to»\n",
      "[2] «greater importance in a world in which institutional portfolios have become increasingly interna- tional. A few Directors expressed doubt about the reports findings that investors from major economies, like the United States and the United Kingdom, would have little to gain from further international diversification of portfolios. Directors discussed the implications for financial stability of proposals and potential changes in accounting policy. They recog- nized the importance of international efforts ANNEX SUMMING UP BY THE CHAIRMAN 150 SUMMING UP BY THE CHAIRMAN 151 to improve accounting principles in order to enhance the comparability and transparency of accounts and to strengthen market disci- pline. However, views differed on the impact of changes in accounting principles on finan- cial market stability. A number of Directors agreed that accounting and financial report- ing standards may influence market behavior and asset allocations by key institutional investors, including»\n",
      "[3] «noted that shifts in asset allocations by such institutions might unsettle emerging markets with relatively shallow financial markets, or amplify long swings and hinder market price discovery. Directors noted the sustained decline in home bias on the part of institutional investors throughout mature economies over the past 15 years, particularly with regard to equity holdings. Directors agreed that major factors cited in the shift toward more interna- tionalized portfolios included less strict invest- ment restrictions, reduced information costs, and the spread of modern portfolio manage- ment practices. By raising average returns while reducing portfolio volatility, these devel- opments have bolstered financial stability. However, Directors noted that the decline in home bias has also increased cross-border cap- ital flows and has probably led to greater cross-border correlations among asset mar- kets. Accordingly, Directors underscored that Fund surveillance has taken on even»\n",
      "\n",
      "[[ ## question ## ]]\n",
      "Can you find exactly 10 relevant topics from the provided text without using numbers. Avoid extra details.\n",
      "\n",
      "Respond with the corresponding output fields, starting with the field `[[ ## reasoning ## ]]`, then `[[ ## answer ## ]]`, and then ending with the marker for `[[ ## completed ## ]]`.\n",
      "\n",
      "\n",
      "Response:\n",
      "\n",
      "[[ ## reasoning ## ]]\n",
      "The context discusses various financial topics, including household indebtedness, global asset allocation, institutional investors, accounting principles, and financial stability. By carefully reviewing the text, I can extract exactly 10 relevant topics without additional details.\n",
      "\n",
      "[[ ## answer ## ]]\n",
      "Household indebtedness  \\nCredit standards  \\nGlobal imbalances  \\nGlobal asset allocation  \\nInstitutional investors  \\nInvestment patterns  \\nInternational diversification  \\nAccounting principles  \\nMarket behavior  \\nCross-border capital flows\n",
      "\n",
      "[[ ## completed ## ]]\n",
      "\n",
      "\n",
      "\n",
      "\n",
      "\n",
      "[2025-03-06T12:12:30.066214]\n",
      "\n",
      "System message:\n",
      "\n",
      "Your input fields are:\n",
      "1. `context` (str): may contain relevant facts\n",
      "2. `question` (str)\n",
      "\n",
      "Your output fields are:\n",
      "1. `reasoning` (str)\n",
      "2. `answer` (str)\n",
      "\n",
      "All interactions will be structured in the following way, with the appropriate values filled in.\n",
      "\n",
      "[[ ## context ## ]]\n",
      "{context}\n",
      "\n",
      "[[ ## question ## ]]\n",
      "{question}\n",
      "\n",
      "[[ ## reasoning ## ]]\n",
      "{reasoning}\n",
      "\n",
      "[[ ## answer ## ]]\n",
      "{answer}\n",
      "\n",
      "[[ ## completed ## ]]\n",
      "\n",
      "In adhering to this structure, your objective is: \n",
      "        In a high-stakes financial meeting, you are tasked with providing concise answers to critical questions about the global financial system. Based on the provided context, extract and list only the key topics mentioned in the text without any additional descriptions or formatting. Ensure your response is clear and accurate to aid decision-making in a time-sensitive environment.\n",
      "\n",
      "\n",
      "User message:\n",
      "\n",
      "This is an example of the task, though some input or output fields are not supplied.\n",
      "\n",
      "[[ ## context ## ]]\n",
      "Not supplied for this particular example.\n",
      "\n",
      "[[ ## question ## ]]\n",
      "Can you exract the 10 topic names, don't write numbers Only pull topics from the transcript. Do not use the examples\n",
      "\n",
      "Respond with the corresponding output fields, starting with the field `[[ ## reasoning ## ]]`, then `[[ ## answer ## ]]`, and then ending with the marker for `[[ ## completed ## ]]`.\n",
      "\n",
      "\n",
      "Assistant message:\n",
      "\n",
      "[[ ## reasoning ## ]]\n",
      "Not supplied for this particular example.\n",
      "\n",
      "[[ ## answer ## ]]\n",
      "Global Financial System  \\nBanking Sector Health  \\nMonetary Policy  \\nFinancial Stability Risks  \\nInvestment Landscape  \\nDebt and Leverage  \\nEconomic Impact and Risks  \\nChina's Financial System  \\nPolicymaker Challenges  \\nGlobal Economic Outlook\n",
      "\n",
      "[[ ## completed ## ]]\n",
      "\n",
      "\n",
      "User message:\n",
      "\n",
      "[[ ## context ## ]]\n",
      "[1] «to stem from low long-term interest rates in mature markets, which have been caused by a variety of reasons. These include the low level of investment that has resulted in an excess supply of global saving, a reduction in inflation risk premia due to greater central bank credibility, reserve accumulation by Asian central banks, and an ongoing shift in institu- tional investor portfolio preferences from equities to bonds. In part reflecting this last factor, equity earnings yields remain relatively high compared to risk-free government bond yields. The search for yield has also been stim- ulated by continued subdued volatility across most financial markets. Directors noted the impact of the search for yield in credit and mortgage markets. Given the compression of spreads in credit markets, investors have increasingly turned to using leverage in various ways to enhance returns, including through a proliferation of struc- tured credit products. They noted that the market quickly»\n",
      "[2] «noted that shifts in asset allocations by such institutions might unsettle emerging markets with relatively shallow financial markets, or amplify long swings and hinder market price discovery. Directors noted the sustained decline in home bias on the part of institutional investors throughout mature economies over the past 15 years, particularly with regard to equity holdings. Directors agreed that major factors cited in the shift toward more interna- tionalized portfolios included less strict invest- ment restrictions, reduced information costs, and the spread of modern portfolio manage- ment practices. By raising average returns while reducing portfolio volatility, these devel- opments have bolstered financial stability. However, Directors noted that the decline in home bias has also increased cross-border cap- ital flows and has probably led to greater cross-border correlations among asset mar- kets. Accordingly, Directors underscored that Fund surveillance has taken on even»\n",
      "[3] «frameworks, and of improving basic financial education especially among individual investors. In the context of rising household indebtedness, mainly in the mortgage market, Directors welcomed the warnings that regula- tors in some major countries have given to their lending institutions to tighten credit standards. For the medium term, the risk of growing global imbalances has to be addressed by a cooperative effort by the major coun- tries, with each adopting policies appropriate to its circumstances. Aspects of Global Asset Allocation Directors welcomed the work undertaken by staff on global asset allocation and the increasing role of institutional investors in financial markets. They noted that a better understanding of the investment patterns of pension funds, insurance companies, mutual funds, and, increasingly, hedge funds would help anticipate the potential for abrupt changes in capital flows across borders and asset classes, with direct relevance to financial stability and to»\n",
      "\n",
      "[[ ## question ## ]]\n",
      "Can you identify and extract only the key topics mentioned in the text, without additional descriptions or formatting.\n",
      "\n",
      "Respond with the corresponding output fields, starting with the field `[[ ## reasoning ## ]]`, then `[[ ## answer ## ]]`, and then ending with the marker for `[[ ## completed ## ]]`.\n",
      "\n",
      "\n",
      "Assistant message:\n",
      "\n",
      "[[ ## reasoning ## ]]\n",
      "The context provided discusses various financial topics, including interest rates, investment patterns, asset allocation, and the impact of institutional investors on financial markets. By analyzing the text, I can identify the key topics mentioned without additional descriptions or formatting.\n",
      "\n",
      "[[ ## answer ## ]]\n",
      "Long-term interest rates  \\nGlobal saving  \\nSearch for yield  \\nCredit markets  \\nAsset allocations  \\nHome bias  \\nCross-border capital flows  \\nFinancial stability  \\nHousehold indebtedness  \\nGlobal imbalances\n",
      "\n",
      "[[ ## completed ## ]]\n",
      "\n",
      "\n",
      "User message:\n",
      "\n",
      "[[ ## context ## ]]\n",
      "[1] «as to improve risk management practices and underscored the need for a balanced development of the required institutions, intermediaries, and mar- ket microstructure to reduce risks. Directors offered several suggestions to take the GFSR to the next level of development after three years of publication, which staff will consider carefully going forward.»\n",
      "[2] «greater importance in a world in which institutional portfolios have become increasingly interna- tional. A few Directors expressed doubt about the reports findings that investors from major economies, like the United States and the United Kingdom, would have little to gain from further international diversification of portfolios. Directors discussed the implications for financial stability of proposals and potential changes in accounting policy. They recog- nized the importance of international efforts ANNEX SUMMING UP BY THE CHAIRMAN 150 SUMMING UP BY THE CHAIRMAN 151 to improve accounting principles in order to enhance the comparability and transparency of accounts and to strengthen market disci- pline. However, views differed on the impact of changes in accounting principles on finan- cial market stability. A number of Directors agreed that accounting and financial report- ing standards may influence market behavior and asset allocations by key institutional investors, including»\n",
      "[3] «to stem from low long-term interest rates in mature markets, which have been caused by a variety of reasons. These include the low level of investment that has resulted in an excess supply of global saving, a reduction in inflation risk premia due to greater central bank credibility, reserve accumulation by Asian central banks, and an ongoing shift in institu- tional investor portfolio preferences from equities to bonds. In part reflecting this last factor, equity earnings yields remain relatively high compared to risk-free government bond yields. The search for yield has also been stim- ulated by continued subdued volatility across most financial markets. Directors noted the impact of the search for yield in credit and mortgage markets. Given the compression of spreads in credit markets, investors have increasingly turned to using leverage in various ways to enhance returns, including through a proliferation of struc- tured credit products. They noted that the market quickly»\n",
      "\n",
      "[[ ## question ## ]]\n",
      "Can you determine and list 10 meaningful topics from the input data. Avoid numbering or explanations.\n",
      "\n",
      "Respond with the corresponding output fields, starting with the field `[[ ## reasoning ## ]]`, then `[[ ## answer ## ]]`, and then ending with the marker for `[[ ## completed ## ]]`.\n",
      "\n",
      "\n",
      "Response:\n",
      "\n",
      "[[ ## reasoning ## ]]\n",
      "The context provided discusses various aspects of the financial system, including risk management, international portfolio diversification, accounting principles, long-term interest rates, and the behavior of institutional investors. By analyzing the text, I can extract meaningful topics without additional explanations or formatting.\n",
      "\n",
      "[[ ## answer ## ]]\n",
      "Risk management practices  \\nInternational portfolio diversification  \\nAccounting principles  \\nFinancial market stability  \\nLong-term interest rates  \\nGlobal saving  \\nSearch for yield  \\nCredit markets  \\nLeverage in investments  \\nStructured credit products\n",
      "\n",
      "[[ ## completed ## ]]\n",
      "\n",
      "\n",
      "\n",
      "\n",
      "\n",
      "[2025-03-06T12:12:30.069214]\n",
      "\n",
      "System message:\n",
      "\n",
      "Your input fields are:\n",
      "1. `context` (str): may contain relevant facts\n",
      "2. `question` (str)\n",
      "\n",
      "Your output fields are:\n",
      "1. `reasoning` (str)\n",
      "2. `answer` (str)\n",
      "\n",
      "All interactions will be structured in the following way, with the appropriate values filled in.\n",
      "\n",
      "[[ ## context ## ]]\n",
      "{context}\n",
      "\n",
      "[[ ## question ## ]]\n",
      "{question}\n",
      "\n",
      "[[ ## reasoning ## ]]\n",
      "{reasoning}\n",
      "\n",
      "[[ ## answer ## ]]\n",
      "{answer}\n",
      "\n",
      "[[ ## completed ## ]]\n",
      "\n",
      "In adhering to this structure, your objective is: \n",
      "        In a high-stakes financial meeting, you are tasked with providing concise answers to critical questions about the global financial system. Based on the provided context, extract and list only the key topics mentioned in the text without any additional descriptions or formatting. Ensure your response is clear and accurate to aid decision-making in a time-sensitive environment.\n",
      "\n",
      "\n",
      "User message:\n",
      "\n",
      "This is an example of the task, though some input or output fields are not supplied.\n",
      "\n",
      "[[ ## context ## ]]\n",
      "Not supplied for this particular example.\n",
      "\n",
      "[[ ## question ## ]]\n",
      "Can you exract the 10 topic names, don't write numbers Only pull topics from the transcript. Do not use the examples\n",
      "\n",
      "Respond with the corresponding output fields, starting with the field `[[ ## reasoning ## ]]`, then `[[ ## answer ## ]]`, and then ending with the marker for `[[ ## completed ## ]]`.\n",
      "\n",
      "\n",
      "Assistant message:\n",
      "\n",
      "[[ ## reasoning ## ]]\n",
      "Not supplied for this particular example.\n",
      "\n",
      "[[ ## answer ## ]]\n",
      "Global Financial System  \\nBanking Sector Health  \\nMonetary Policy  \\nFinancial Stability Risks  \\nInvestment Landscape  \\nDebt and Leverage  \\nEconomic Impact and Risks  \\nChina's Financial System  \\nPolicymaker Challenges  \\nGlobal Economic Outlook\n",
      "\n",
      "[[ ## completed ## ]]\n",
      "\n",
      "\n",
      "User message:\n",
      "\n",
      "[[ ## context ## ]]\n",
      "[1] «to stem from low long-term interest rates in mature markets, which have been caused by a variety of reasons. These include the low level of investment that has resulted in an excess supply of global saving, a reduction in inflation risk premia due to greater central bank credibility, reserve accumulation by Asian central banks, and an ongoing shift in institu- tional investor portfolio preferences from equities to bonds. In part reflecting this last factor, equity earnings yields remain relatively high compared to risk-free government bond yields. The search for yield has also been stim- ulated by continued subdued volatility across most financial markets. Directors noted the impact of the search for yield in credit and mortgage markets. Given the compression of spreads in credit markets, investors have increasingly turned to using leverage in various ways to enhance returns, including through a proliferation of struc- tured credit products. They noted that the market quickly»\n",
      "[2] «noted that shifts in asset allocations by such institutions might unsettle emerging markets with relatively shallow financial markets, or amplify long swings and hinder market price discovery. Directors noted the sustained decline in home bias on the part of institutional investors throughout mature economies over the past 15 years, particularly with regard to equity holdings. Directors agreed that major factors cited in the shift toward more interna- tionalized portfolios included less strict invest- ment restrictions, reduced information costs, and the spread of modern portfolio manage- ment practices. By raising average returns while reducing portfolio volatility, these devel- opments have bolstered financial stability. However, Directors noted that the decline in home bias has also increased cross-border cap- ital flows and has probably led to greater cross-border correlations among asset mar- kets. Accordingly, Directors underscored that Fund surveillance has taken on even»\n",
      "[3] «frameworks, and of improving basic financial education especially among individual investors. In the context of rising household indebtedness, mainly in the mortgage market, Directors welcomed the warnings that regula- tors in some major countries have given to their lending institutions to tighten credit standards. For the medium term, the risk of growing global imbalances has to be addressed by a cooperative effort by the major coun- tries, with each adopting policies appropriate to its circumstances. Aspects of Global Asset Allocation Directors welcomed the work undertaken by staff on global asset allocation and the increasing role of institutional investors in financial markets. They noted that a better understanding of the investment patterns of pension funds, insurance companies, mutual funds, and, increasingly, hedge funds would help anticipate the potential for abrupt changes in capital flows across borders and asset classes, with direct relevance to financial stability and to»\n",
      "\n",
      "[[ ## question ## ]]\n",
      "Can you identify and extract only the key topics mentioned in the text, without additional descriptions or formatting.\n",
      "\n",
      "Respond with the corresponding output fields, starting with the field `[[ ## reasoning ## ]]`, then `[[ ## answer ## ]]`, and then ending with the marker for `[[ ## completed ## ]]`.\n",
      "\n",
      "\n",
      "Assistant message:\n",
      "\n",
      "[[ ## reasoning ## ]]\n",
      "The context provided discusses various financial topics, including interest rates, investment patterns, asset allocation, and the impact of institutional investors on financial markets. By analyzing the text, I can identify the key topics mentioned without additional descriptions or formatting.\n",
      "\n",
      "[[ ## answer ## ]]\n",
      "Long-term interest rates  \\nGlobal saving  \\nSearch for yield  \\nCredit markets  \\nAsset allocations  \\nHome bias  \\nCross-border capital flows  \\nFinancial stability  \\nHousehold indebtedness  \\nGlobal imbalances\n",
      "\n",
      "[[ ## completed ## ]]\n",
      "\n",
      "\n",
      "User message:\n",
      "\n",
      "[[ ## context ## ]]\n",
      "[1] «stabilized following distur- bances in the credit derivatives market in April and May related to developments in the 148 ANNEX SUMMING UP BY THE CHAIRMAN 148 The following remarks by the Chairman were made at the conclusion of the Executive Boards discussion of the Global Financial Stability Report on August 29, 2005. U.S. auto sector, and the corporate credit mar- ket functioned surprisingly smoothly in absorbing downgrades in this sector. Directors observed that this likely reflected the relatively isolated nature of the difficulties as the corpo- rate sector remains broadly healthy, with strong balance sheets and low default rates. However, they considered that the corporate credit cycle appears to be peaking as corpora- tions have begun to increase balance sheet leverage in a variety of ways. This has increased the risk of specific corporate credit events causing corrections in credit derivative and collateralized debt obligation (CDO) markets in the period ahead. Directors noted»\n",
      "[2] «greater importance in a world in which institutional portfolios have become increasingly interna- tional. A few Directors expressed doubt about the reports findings that investors from major economies, like the United States and the United Kingdom, would have little to gain from further international diversification of portfolios. Directors discussed the implications for financial stability of proposals and potential changes in accounting policy. They recog- nized the importance of international efforts ANNEX SUMMING UP BY THE CHAIRMAN 150 SUMMING UP BY THE CHAIRMAN 151 to improve accounting principles in order to enhance the comparability and transparency of accounts and to strengthen market disci- pline. However, views differed on the impact of changes in accounting principles on finan- cial market stability. A number of Directors agreed that accounting and financial report- ing standards may influence market behavior and asset allocations by key institutional investors, including»\n",
      "[3] «and emerging markets. A number of Directors, however, stressed the need to guard against the potentially destabilizing effect of hedge fund operations and of the growing use of structured products, while preserving the benefits of these innovations in terms of mar- ket efficiency and liquidity. While considering policy measures to miti- gate risks, Directors stressed that ongoing risk management by individual financial institu- tions and supervisory scrutiny by regulators SUMMING UP BY THE CHAIRMAN 149 are the most important lines of defense. In particular, given the risk of corrections in credit derivative and CDO markets, regulators must ensure that financial institutions main- tain robust counterparty risk management practices, not least to contain the spillover effect of market corrections should they occur. Directors also stressed the importance of disclosure and transparency to enhance the flow of information, of the Standards and Codes work to help improve regulatory»\n",
      "\n",
      "[[ ## question ## ]]\n",
      "Can you identify and list the key discussion points from the transcript. Only return topic names without numbering or additional context.\n",
      "\n",
      "Respond with the corresponding output fields, starting with the field `[[ ## reasoning ## ]]`, then `[[ ## answer ## ]]`, and then ending with the marker for `[[ ## completed ## ]]`.\n",
      "\n",
      "\n",
      "Response:\n",
      "\n",
      "[[ ## reasoning ## ]]\n",
      "The context provided discusses various financial topics, including credit markets, corporate credit cycles, international portfolio diversification, accounting principles, hedge fund operations, structured products, risk management, and regulatory practices. By analyzing the text, I can identify the key discussion points mentioned without additional context or formatting.\n",
      "\n",
      "[[ ## answer ## ]]\n",
      "Credit derivatives market  \\nCorporate credit cycle  \\nBalance sheet leverage  \\nInternational portfolio diversification  \\nAccounting principles  \\nFinancial market stability  \\nHedge fund operations  \\nStructured products  \\nRisk management  \\nRegulatory practices\n",
      "\n",
      "[[ ## completed ## ]]\n",
      "\n",
      "\n",
      "\n",
      "\n",
      "\n",
      "[2025-03-06T12:12:30.073579]\n",
      "\n",
      "System message:\n",
      "\n",
      "Your input fields are:\n",
      "1. `context` (str): may contain relevant facts\n",
      "2. `question` (str)\n",
      "\n",
      "Your output fields are:\n",
      "1. `reasoning` (str)\n",
      "2. `answer` (str)\n",
      "\n",
      "All interactions will be structured in the following way, with the appropriate values filled in.\n",
      "\n",
      "[[ ## context ## ]]\n",
      "{context}\n",
      "\n",
      "[[ ## question ## ]]\n",
      "{question}\n",
      "\n",
      "[[ ## reasoning ## ]]\n",
      "{reasoning}\n",
      "\n",
      "[[ ## answer ## ]]\n",
      "{answer}\n",
      "\n",
      "[[ ## completed ## ]]\n",
      "\n",
      "In adhering to this structure, your objective is: \n",
      "        In a high-stakes financial meeting, you are tasked with providing concise answers to critical questions about the global financial system. Based on the provided context, extract and list only the key topics mentioned in the text without any additional descriptions or formatting. Ensure your response is clear and accurate to aid decision-making in a time-sensitive environment.\n",
      "\n",
      "\n",
      "User message:\n",
      "\n",
      "This is an example of the task, though some input or output fields are not supplied.\n",
      "\n",
      "[[ ## context ## ]]\n",
      "Not supplied for this particular example.\n",
      "\n",
      "[[ ## question ## ]]\n",
      "Can you exract the 10 topic names, don't write numbers Only pull topics from the transcript. Do not use the examples\n",
      "\n",
      "Respond with the corresponding output fields, starting with the field `[[ ## reasoning ## ]]`, then `[[ ## answer ## ]]`, and then ending with the marker for `[[ ## completed ## ]]`.\n",
      "\n",
      "\n",
      "Assistant message:\n",
      "\n",
      "[[ ## reasoning ## ]]\n",
      "Not supplied for this particular example.\n",
      "\n",
      "[[ ## answer ## ]]\n",
      "Global Financial System  \\nBanking Sector Health  \\nMonetary Policy  \\nFinancial Stability Risks  \\nInvestment Landscape  \\nDebt and Leverage  \\nEconomic Impact and Risks  \\nChina's Financial System  \\nPolicymaker Challenges  \\nGlobal Economic Outlook\n",
      "\n",
      "[[ ## completed ## ]]\n",
      "\n",
      "\n",
      "User message:\n",
      "\n",
      "[[ ## context ## ]]\n",
      "[1] «to stem from low long-term interest rates in mature markets, which have been caused by a variety of reasons. These include the low level of investment that has resulted in an excess supply of global saving, a reduction in inflation risk premia due to greater central bank credibility, reserve accumulation by Asian central banks, and an ongoing shift in institu- tional investor portfolio preferences from equities to bonds. In part reflecting this last factor, equity earnings yields remain relatively high compared to risk-free government bond yields. The search for yield has also been stim- ulated by continued subdued volatility across most financial markets. Directors noted the impact of the search for yield in credit and mortgage markets. Given the compression of spreads in credit markets, investors have increasingly turned to using leverage in various ways to enhance returns, including through a proliferation of struc- tured credit products. They noted that the market quickly»\n",
      "[2] «noted that shifts in asset allocations by such institutions might unsettle emerging markets with relatively shallow financial markets, or amplify long swings and hinder market price discovery. Directors noted the sustained decline in home bias on the part of institutional investors throughout mature economies over the past 15 years, particularly with regard to equity holdings. Directors agreed that major factors cited in the shift toward more interna- tionalized portfolios included less strict invest- ment restrictions, reduced information costs, and the spread of modern portfolio manage- ment practices. By raising average returns while reducing portfolio volatility, these devel- opments have bolstered financial stability. However, Directors noted that the decline in home bias has also increased cross-border cap- ital flows and has probably led to greater cross-border correlations among asset mar- kets. Accordingly, Directors underscored that Fund surveillance has taken on even»\n",
      "[3] «frameworks, and of improving basic financial education especially among individual investors. In the context of rising household indebtedness, mainly in the mortgage market, Directors welcomed the warnings that regula- tors in some major countries have given to their lending institutions to tighten credit standards. For the medium term, the risk of growing global imbalances has to be addressed by a cooperative effort by the major coun- tries, with each adopting policies appropriate to its circumstances. Aspects of Global Asset Allocation Directors welcomed the work undertaken by staff on global asset allocation and the increasing role of institutional investors in financial markets. They noted that a better understanding of the investment patterns of pension funds, insurance companies, mutual funds, and, increasingly, hedge funds would help anticipate the potential for abrupt changes in capital flows across borders and asset classes, with direct relevance to financial stability and to»\n",
      "\n",
      "[[ ## question ## ]]\n",
      "Can you identify and extract only the key topics mentioned in the text, without additional descriptions or formatting.\n",
      "\n",
      "Respond with the corresponding output fields, starting with the field `[[ ## reasoning ## ]]`, then `[[ ## answer ## ]]`, and then ending with the marker for `[[ ## completed ## ]]`.\n",
      "\n",
      "\n",
      "Assistant message:\n",
      "\n",
      "[[ ## reasoning ## ]]\n",
      "The context provided discusses various financial topics, including interest rates, investment patterns, asset allocation, and the impact of institutional investors on financial markets. By analyzing the text, I can identify the key topics mentioned without additional descriptions or formatting.\n",
      "\n",
      "[[ ## answer ## ]]\n",
      "Long-term interest rates  \\nGlobal saving  \\nSearch for yield  \\nCredit markets  \\nAsset allocations  \\nHome bias  \\nCross-border capital flows  \\nFinancial stability  \\nHousehold indebtedness  \\nGlobal imbalances\n",
      "\n",
      "[[ ## completed ## ]]\n",
      "\n",
      "\n",
      "User message:\n",
      "\n",
      "[[ ## context ## ]]\n",
      "[1] «noted that shifts in asset allocations by such institutions might unsettle emerging markets with relatively shallow financial markets, or amplify long swings and hinder market price discovery. Directors noted the sustained decline in home bias on the part of institutional investors throughout mature economies over the past 15 years, particularly with regard to equity holdings. Directors agreed that major factors cited in the shift toward more interna- tionalized portfolios included less strict invest- ment restrictions, reduced information costs, and the spread of modern portfolio manage- ment practices. By raising average returns while reducing portfolio volatility, these devel- opments have bolstered financial stability. However, Directors noted that the decline in home bias has also increased cross-border cap- ital flows and has probably led to greater cross-border correlations among asset mar- kets. Accordingly, Directors underscored that Fund surveillance has taken on even»\n",
      "[2] «policymakers. Directors considered the diversity of proce- dures followed by various institutional investors when allocating assets, reflecting their different time horizons, liability struc- tures, and cultural backgrounds, as well as external influences, such as accounting and financial reporting standards, tax rules, rating agencies, and the availability of financial instruments needed for adequate risk manage- ment. In this context, most Directors agreed that the increasing dominance of strategic asset allocations driven more by long-term economic fundamentals, including risk man- agement objectives, was a positive develop- ment, as it helps reduce the volatility and noise in financial markets, and makes some asset classes, such as emerging market debt, less prone to boom and bust cycles. In particu- lar, the continued growth of institutions with long-term liabilities, such as pension funds, brings benefits from the point of view of financial stability. Some Directors, however,»\n",
      "[3] «stabilized following distur- bances in the credit derivatives market in April and May related to developments in the 148 ANNEX SUMMING UP BY THE CHAIRMAN 148 The following remarks by the Chairman were made at the conclusion of the Executive Boards discussion of the Global Financial Stability Report on August 29, 2005. U.S. auto sector, and the corporate credit mar- ket functioned surprisingly smoothly in absorbing downgrades in this sector. Directors observed that this likely reflected the relatively isolated nature of the difficulties as the corpo- rate sector remains broadly healthy, with strong balance sheets and low default rates. However, they considered that the corporate credit cycle appears to be peaking as corpora- tions have begun to increase balance sheet leverage in a variety of ways. This has increased the risk of specific corporate credit events causing corrections in credit derivative and collateralized debt obligation (CDO) markets in the period ahead. Directors noted»\n",
      "\n",
      "[[ ## question ## ]]\n",
      "Can you exract the optimal number of topic names for each row in the input data frame.\n",
      "\n",
      "Respond with the corresponding output fields, starting with the field `[[ ## reasoning ## ]]`, then `[[ ## answer ## ]]`, and then ending with the marker for `[[ ## completed ## ]]`.\n",
      "\n",
      "\n",
      "Response:\n",
      "\n",
      "[[ ## reasoning ## ]]\n",
      "The context provided discusses various financial topics across three segments. Each segment contains distinct themes related to asset allocation, market stability, and corporate credit. By analyzing the text, I can extract the optimal number of key topics for each row based on the main ideas presented.\n",
      "\n",
      "[[ ## answer ## ]]\n",
      "Row 1: Asset allocations, Home bias, Cross-border capital flows  \\nRow 2: Strategic asset allocations, Long-term economic fundamentals, Financial stability  \\nRow 3: Credit derivatives market, Corporate credit cycle, Balance sheet leverage\n",
      "\n",
      "[[ ## completed ## ]]\n",
      "\n",
      "\n",
      "\n",
      "\n",
      "\n"
     ]
    }
   ],
   "source": [
    "dspy.inspect_history(n=5)"
   ]
  },
  {
   "cell_type": "code",
   "execution_count": 134,
   "id": "920f29e1-777c-45a8-98db-4916f4df0e4c",
   "metadata": {},
   "outputs": [],
   "source": [
    "optimized_rag.save(\"GPT4ominimedium.json\")"
   ]
  },
  {
   "cell_type": "code",
   "execution_count": null,
   "id": "92d8ef0c-4adc-413a-8b41-a8d22876904f",
   "metadata": {},
   "outputs": [],
   "source": []
  }
 ],
 "metadata": {
  "kernelspec": {
   "display_name": "Python 3 (ipykernel)",
   "language": "python",
   "name": "python3"
  },
  "language_info": {
   "codemirror_mode": {
    "name": "ipython",
    "version": 3
   },
   "file_extension": ".py",
   "mimetype": "text/x-python",
   "name": "python",
   "nbconvert_exporter": "python",
   "pygments_lexer": "ipython3",
   "version": "3.11.5"
  }
 },
 "nbformat": 4,
 "nbformat_minor": 5
}
